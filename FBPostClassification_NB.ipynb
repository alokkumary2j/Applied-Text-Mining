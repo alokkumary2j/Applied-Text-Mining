{
 "cells": [
  {
   "cell_type": "code",
   "execution_count": 1,
   "metadata": {
    "collapsed": false
   },
   "outputs": [],
   "source": [
    "import requests\n",
    "import json\n",
    "import os\n",
    "from nltk.corpus import stopwords\n",
    "from nltk.stem import *"
   ]
  },
  {
   "cell_type": "code",
   "execution_count": 2,
   "metadata": {
    "collapsed": true
   },
   "outputs": [],
   "source": [
    "#Login inside FB: Go to URL : https://developers.facebook.com/\n",
    "# Facebook for developers -> Tools and Support -> Graph API Explorer -> Access Token\n",
    "#IMPORTANT: ACCESS_TOKEN expires very quickly(Probably, once every an hour or two)\n",
    "access_token=\"EAACEdEose0cBANydY4bqq9Tss1jM9emyVy3FFCTrKlJhYIDIZCJ5DRokHHZCw1zmVcxjjfSZCZANpHgCQinifeWzpds8QVlrckpoK7kMqgypZAgHFnTiZAv2eVtt1SD0kYM2Y0qla3Y155beZBakAOFqVqpjlKus60ziNM7aQehxgZDZD\"\n",
    "#I have Found Out Some Group Names Manually , by browsing FB\n",
    "groupNames=['Flats and Flatmates (Bangalore Chapter)','Flats Without Broker in India','Flats & Flatmates : Pan India!',\n",
    "            'House for Rent in Bangalore','House/Flat for Rent in Bangalore without Brokers','Bangalore House Sharing, Flats, Rentals, Rooms for sharing available'\n",
    "            ,'Flats without broker -bangalore','Flats and Flatmates : PAN Bangalore !','Flats / Flatmates without brokers in India' \n",
    "           ]\n",
    "groupIDs=['1463274307229712','5561469939','340254516036729','219157614840863','450055131795193','355277761216963','314309115332224',\n",
    "              '391928064244514','195366117186736']\n",
    "#Only allowed to get POSTS posted on PUBLIC FB Groups: Out of these 9 groups, only 3 are Public:Hence have data for only 3 groups\n",
    "# Another Issue: Currently. by Deafult API only provides latest 25 POSTS for each PUBLIC group\n",
    "#Hence, Below method returnGroupFeeds() will only Fetch 75 posts for each execution\n",
    "baseURL=\"https://graph.facebook.com/\"\n",
    "def returnGroupFeeds():\n",
    "    respJSONDataList=[]\n",
    "    for grpId in groupIDs:\n",
    "        url=baseURL+grpId+\"/feed?access_token=\"+access_token\n",
    "        response=requests.get(url)\n",
    "        if(response.status_code!=200):\n",
    "            print(response)\n",
    "            print(\"Please Update your Access-Token : It is Expired !!!\")\n",
    "            return\n",
    "        respJSON=response.json()\n",
    "        respJSONData=respJSON[\"data\"]\n",
    "        print(len(respJSONData),\" Comments Found for GRP ID : \",grpId)\n",
    "        respJSONDataList.extend(respJSONData)\n",
    "    return respJSONDataList"
   ]
  },
  {
   "cell_type": "code",
   "execution_count": 3,
   "metadata": {
    "collapsed": false
   },
   "outputs": [
    {
     "name": "stdout",
     "output_type": "stream",
     "text": [
      "0  Comments Found for GRP ID :  1463274307229712\n",
      "0  Comments Found for GRP ID :  5561469939\n",
      "25  Comments Found for GRP ID :  340254516036729\n",
      "0  Comments Found for GRP ID :  219157614840863\n",
      "25  Comments Found for GRP ID :  450055131795193\n",
      "0  Comments Found for GRP ID :  355277761216963\n",
      "0  Comments Found for GRP ID :  314309115332224\n",
      "0  Comments Found for GRP ID :  391928064244514\n",
      "24  Comments Found for GRP ID :  195366117186736\n"
     ]
    }
   ],
   "source": [
    "jsonDataList=returnGroupFeeds()"
   ]
  },
  {
   "cell_type": "code",
   "execution_count": 5,
   "metadata": {
    "collapsed": false
   },
   "outputs": [],
   "source": [
    "def extractPostsData(jsonDataList):\n",
    "    posts=[{'from':jsonData.get('from'),'message':jsonData.get('message'),'containsPicture':'picture' in jsonData} for jsonData in jsonDataList]\n",
    "    return posts"
   ]
  },
  {
   "cell_type": "code",
   "execution_count": 6,
   "metadata": {
    "collapsed": false,
    "scrolled": true
   },
   "outputs": [
    {
     "data": {
      "text/plain": [
       "[{'containsPicture': True,\n",
       "  'from': {'id': '10152373624406396', 'name': 'Sushma Reddy'},\n",
       "  'message': 'Our choices determine how happy or satisfied we are in our life. How do we make truly meaningful choices in life? Join us as we explore what it means to be an individual and how daring to choose can be the secret to attaining true freedom.\\n\\nLecture. Free Event.\\n\\nW: www.acropolis.org.in\\nE: info@acropolis.org.in\\nT: +91 22 22163712'},\n",
       " {'containsPicture': False,\n",
       "  'from': {'id': '120573548325649', 'name': 'Ria Seth'},\n",
       "  'message': 'room\\n₹14 - Mumbai, India\\n\\n2 Room available for girls in Oshiwara \\nFully furnished in very good building \\nVery airy apartment with balcony \\nRent -14.5 k each for sharing \\nDeposit -30 k each \\nWrite for more information . \\nAvailable 7th December .'},\n",
       " {'containsPicture': False,\n",
       "  'from': {'id': '10152534041647181', 'name': 'Sunayana Sahu'},\n",
       "  'message': 'single occupancy room\\n₹18,500 - Mumbai, India\\n\\nRequire a Female Flatmate for a fully furnished 3BHK as a replacement from 1st January 2017 #Singleoccupancy #homeawayfromhome\\nRent - ₹ 18,500/-\\nBrokerage - ₹ 0/-\\nDeposit - ₹ 50,000/-\\nIdeal for ppl working in BKC / Sion / Kurla / Santacruz (E) / Kalina\\n- Fully furnished flat\\n- Single Occupancy\\n- Female only (Preferably Vegetarian &/ Eggetarian)\\n- Wifi, Cable, Maid & Cook (all in place), expense will be shared equally amongst 3 \\n- Chilled Out, Fun loving Flatmates \\n- Club house available (Swimming pool, gym, badminton court, squash court, tennis courts, jogging track)\\n- 1km from Kurla station/ Vidyavihar station\\n\\nNikita Giria Vidhi Shah'},\n",
       " {'containsPicture': True,\n",
       "  'from': {'id': '873046289399753', 'name': 'Pranay Katkar'},\n",
       "  'message': 'Fully Furnished 2 BHK Apartment in Raj Legacy on LBS Road Vikhroli West\\n₹47,000 - Raj legacy, Vikhroli(W)\\n\\n#FullyFurnished #2bhk #LBS #Readytomovein\\n(available for both single & twin occupancy for both rooms)\\n\\nThe fully furnished house contains:\\n\\nTV, Sofa cum bed, 2 AC, washing machine, microwave,gas pipeline, toaster, fridge, kitchen cabinets, 2 full size wardrobes, double bed with mattresses, kitchen cabinets, chimney\\n\\nThe place is on the LBS road roughly 400 mts. from Vikhroli West Railway Station & 50 Mts. from the nearest Bus stand. 1 km from the eastern express highway.\\n\\nThe society has a fully functional club house with Badminton Court, Swimming Pool, Indoor Games, Gym etc.\\n\\nTotal Deposit: 2 lakhs (To be divided equally)\\nThe house is available immediately.\\nIf interested P.M. me or call me at 8291285194'},\n",
       " {'containsPicture': False,\n",
       "  'from': {'id': '10152834799160210', 'name': 'Ananya Chaudhary'},\n",
       "  'message': 'TaRu ChaudhaRy is looking for FEMALE accommodation on sharing basis with NO BROKERAGE between Bandra and Andheri within close proximity to metro or local train.\\nMaximum Rent Budget: Rs. 10,000\\nAll leads will be appreciated.'},\n",
       " {'containsPicture': True,\n",
       "  'from': {'id': '185819188544989', 'name': 'Prerna Joshi'},\n",
       "  'message': '#No_Brokerage #Single_Occupancy #Twin_Sharing CALL on 9108044529\\n₹8,000 - Bangalore, India\\n\\nIf anyone is looking for a #Shared_Accommodation in #Indira_Nagar #Koramangala #Bellandur #Marathahalli #Panathur #Kadubeesanahalli #Whitefield #Sarjapur #BTM_layout #JP_Nagar #Domlur #Pai_Layout #Murugesh_Palya #HBR_Layout #Mahadevpura #ITPL #AECS_Layout\\n\\nPlease Contact on 9108044529\\n<<<<< For all the details and Images >>>>>\\n\\nRent for Twin sharing starts from 6,000 - 10,000\\nRent for Single Occupancy starts from 12,000 - 18,000\\n\\n#Fully_Furnished and #Semi_Furnished #Flats at #Affordable_Rents #Happy_Living #Happy_Renting'},\n",
       " {'containsPicture': False,\n",
       "  'from': {'id': '10154223531610277', 'name': 'Shriya Channa'},\n",
       "  'message': 'SHORT TERM SINGLE OCCUPANCY ROOM IN 3BHK\\n₹800 - Santacruz Vakola Mumbai\\n\\nSHORT TERM - SINGLE OCCUPANCY ROOM AVAILABLE IN A 3BHK for SINGLE WORKING WOMEN in SANTACRUZ EAST - CLOSE TO BKC and WESTERN EXPRESS HIGHWAY - AVAILABLE IMMEDIATELY TILL 28th of DECEMBER. MESSAGE ON FB IF INTERESTED. CHARGE 800 per day.'},\n",
       " {'containsPicture': False,\n",
       "  'from': {'id': '10153688725104556', 'name': 'Sumantra Saha'},\n",
       "  'message': 'Flats for rent\\n₹25,000 - Near Nagarbazar and Jessor Road\\n\\n3BHK flats, South - East facing.\\nThe property is self owned. There is underground electric lines with both 220v & 440v connection. \\nPeaceful and calm residential area.\\nDistance from airport is 15 min,  \\nclosest metro is Dumdum which is about 15 min too.\\nThe area is approx 1000sqft  per floor. \\nEach floor has 3 bed room, kitchen, dining and 2 bathroom.\\n\\nThis property is for both Sale and Rent.\\n\\nRent 25,000/- with security deposit of 50,000/-.\\nPreferred Students, Doctors, Nurses, People from other states coming to work in kolkata.'},\n",
       " {'containsPicture': False,\n",
       "  'from': {'id': '10155136201355788', 'name': 'Neha Davar'},\n",
       "  'message': '200 yards basement available in a residential property for rent in sector 57, gurgaon. Near Hong Kong bazaar. Looking for tenants who plan to open boutique, warehouse for their business, studio et c etc. Can ping me on Facebook message for more details. Thanks'},\n",
       " {'containsPicture': True,\n",
       "  'from': {'id': '1667923250089642', 'name': 'Keerthi Kumar'},\n",
       "  'message': 'Semi Furnished 3Bhk  available for rent for Families . Location Near kannamangala kadugodi\\n₹24,000 - Bangalore, India\\n\\nSemi Furnished 3Bhk  available for rent for Families.\\nLocation kannamangala kadugodi\\n\\nOnly 2 Months of Security Deposit (INR48000 fully refundable)\\nNo Maintenance, no brokerage. \\nFor More Info Feel Free To Call 9964262512'},\n",
       " {'containsPicture': False,\n",
       "  'from': {'id': '254217128275035', 'name': 'Stuti Paranjape'},\n",
       "  'message': '#2Bhk for rent in Blueridge in T4 tower , #Hinjewadi , #NoBrokerage #Family .\\nFloor 16th\\nRent- 17000/-\\nDeposit- 55000/-\\nPlease call 8308806455 to see the flat.'},\n",
       " {'containsPicture': True,\n",
       "  'from': {'id': '770628256324943', 'name': 'Sameer Muni'},\n",
       "  'message': \"Urgent.. flat is ready for possession now..\\nHi I'm a owner I've a 1bhk flat at yari road, versova, Andheri west. I want to give on rent for 27k\\nIt's fully furnished \\nIt's with fridge, washing machine, AC, 2 gas cylinders & a automatic 3 burner stove. Tea table, 3+1+1 sofa, mixer grinder kitchen covered with wooden door n with glass shelfs.  It also has a double bed with new medicated mattress  and a wardrobe\"},\n",
       " {'containsPicture': False,\n",
       "  'from': {'id': '10152319797259037', 'name': 'Manpreet Jassal'},\n",
       "  'message': \"2BHK\\n₹1\\n\\nHi!\\n\\nI'm looking for a 2bhk flat (semi / unfurnished) in a society for a family, preferably in one of the following locations - DLF phase IV / south city  and other nearby places. Need it from 15th of Dec.\\n\\nAny leads would be appreciated! Please inbox me details if possible. Thanks.\"},\n",
       " {'containsPicture': False,\n",
       "  'from': {'id': '1140413689313538', 'name': 'Joyce Dsouza'},\n",
       "  'message': \"BOYS #3BHK  #FULLY FURNISHED #SHARING  AVAILABLE # BEHIND SAP LABS # NEXT TO RMZ NXT # NEAR GRAPHITE INDIA CIRCLE # KUNDALAHALLI #LAST BED AVAILABLE\\n\\nRent including maintenance is only Rs 7100 per head on sharing.\\nSecurity Deposit is only Rs 14200 refundable at the time you vacate.\\n\\nHouse is #Huge #Spacious #Beautiful #Peaceful #Cozy and Fully  equiped with T.V, FRIDGE, FULLY AUTOMATIC WASHING MACHINE, SOFA, DINING TABLE, GEYSERS, TABLE, GAS STOVE WITH GAS CONNECTION, FULLY FUNCTIONAL KITCHEN, WIFI, DTH,GYM,INDOOR GAMES ROOM, and many more.\\n\\nBills like DTH, ELCTRICITY, WIFI, GAS needs to be shared among Flat Mates.\\n\\nHouse is easily accessible to people working in SAP LABS,RMZ NXT, IBM, DIVYASHREE TECH PARK, VYDEHI HOSPITAL, ITPL, TCS,BAGMANE TECH PARK, DODDANEKUNDI ,  MARATHALLI, WHITEFIELD, KUNDALAHALLI, AND NEAR BY TECH PARKS.and has easy access to PETROL PUMP, RING ROAD, BANKS, ATM'S, MARKETS, HOSPITALS, MALLS, COLLEGES, PARLOURS/SALONS, RESTAURANTS,TECH PARKS ETC .\\n\\nLet's catch up . Call us on - 8884447617 or 8884445841\"},\n",
       " {'containsPicture': False,\n",
       "  'from': {'id': '10152238279141657', 'name': 'Niket Prasad'},\n",
       "  'message': 'Looking for a flatmate in Mumbai. Will be ready to move in by 15th December. Looking in areas of Bandra/Khar/Santacruz/ Andheri/Jogeshwari. Preferably fully furnished.'},\n",
       " {'containsPicture': False,\n",
       "  'from': {'id': '10152196785336464', 'name': 'Prashant Gupta'},\n",
       "  'message': \"Flatmate in Fully Furnished Flat in Suncity Apartments Sarjapur Junction Bellandur\\n₹12,000 - Suncity Apartments\\n\\n#Bangalore #Immediate #Flatmate #SingleOccupancy #Bellandur #Belandur #Sarjapur #Suncity #Ecospace\\nFlatmate in Fully Furnished Flat in Suncity Apartments Sarjapur Junction Bellandur\\n\\nLooking for immediate flatmate from 1 Dec. No brokerage. Gated society with guards and no restrictions. Additional charges to be divided : Maid, Broadband Electricity etc.\\nIf interested, please feel free to get in touch. Call or Whatsapp! we'll share the pictures of the apartment. Thanks!\\n+91-888-222-2070\\n\\nRent~12k\\n\\nLocation Suncity Apartments at Bellandur Sarjapur Junction Signal Cross\\nhttps://www.google.com/maps/place/Sun+City+Corporate+Leisure/@12.9238319,77.6653147,17z/data=!4m3!3m2!1s0x3bae13778b0df81b:0xffbe0e5c196fe128!4b1\\n\\nAmenities Facilities Description\\nFully furnished independent BHK with Bed, Cots, Mattress\\nAttached bathrooms all fitted with Geysers\\nSeperate Big Wardrobes ACs Almirahs Windows Balcony Curtains etc\\nVery High speed Wi Fi Internet Broadband\\nTV television with DTH\\nFully Automatic Washing Machine Laundry cleaning and Iron\\nLuxurious Sofa set and Couch with Plush Dining Table\\nMarble and tiled floorings\\nModular well stocked fully furnished Kitchen with Microwave Chimney and 4 burner stove\\nWater Purifier RO and big Refrigerator Fridge\\nCook and maid 24 hours water supply and electricity with Power back up\\nAmple parking space for cars and two wheelers\\nSafe and serene environment with Elite places\\nGym with trainer Tennis and Squash\\nAll the amenities and grocery shop inside the society\\n2 min walking from Outer Ring road\\n\\nThe house is too good to give it a miss! Check it out for yourself\\nFlat is Fully Furnished house in Suncity Apartments, Sarjapur Junction Bellandur\\nAvailable immediately and Ready to move in Just need to move in with your bag of clothes\\nIdeal for people working in Bellandur, EcoSpace, EcoWorld, Salarpuria, Cisco, Intel, HSBC, Honeywell, Accenture, Capgemini, First Source, Genpact, AT&T, HP, Intuit, Intel, SAP, Brocade, Airvana\"},\n",
       " {'containsPicture': True,\n",
       "  'from': {'id': '111062092581308', 'name': 'Rakshith G S Acharya'},\n",
       "  'message': 'Pest Control Service \\n₹700 - Bangalore, India\\n\\nDid you know?\\nCockroaches are known to carry 33 types of bacteria, 6 parasitic worms and trigger asthma attacks.\\nGet rid of Pests at Home. Book Pest Control Service!\\nFor details Visit : http://bit.ly/2fNPtEd or call 080 30323232'},\n",
       " {'containsPicture': True,\n",
       "  'from': {'id': '227437804314422', 'name': 'Rahul Mishra'},\n",
       "  'message': 'Semi furnished Flat for rent in Nandhini Lakeview, JP Nagar, Bangalore-ZERO BROKERAGE\\n₹15,000 - Banglore City\\n\\nNandini Lakeview Is One Of The Popular Residential Developments In JP Nagar, Neighborhood Of Bangalore. It Is Among The Completed Projects Of Wise Builders And Developers. It Has Lavish Yet Thoughtfully Designed Residences In 1 Blocks.\\n\\nRent : 15000Rs maintenance included.\\nDeposit : 97,500\\nArea     : 1,138 sqft\\nCar Parking Available, Door facing west, 4th floor\\n\\nFurnishings:\\nShoe Rack\\n Crockery Unit\\n Modular Kitchen with Chimney\\n Cabinets above & below the Kitchen slab\\n Wardrobes & Lofts in Bedrooms\\n Mirror attached in wardrobe for dressing purpose\\n Geyser in Bathrooms\\n \\nCheck out the property link for more details : https://goo.gl/Kt1RNa\\nOR\\nCall on : 08046689222'},\n",
       " {'containsPicture': False,\n",
       "  'from': {'id': '10206992814196066', 'name': 'Prabhash Chandra Arabain'},\n",
       "  'message': 'Chair-10 & Table-1. Dinner table. Very good condition..contact 8123734474\\n₹4,000 - Bangalore, India'},\n",
       " {'containsPicture': False,\n",
       "  'from': {'id': '10206992814196066', 'name': 'Prabhash Chandra Arabain'},\n",
       "  'message': 'Battery & UPS...one year old very good condition. Suitable for office and home purpose..8123734474\\n₹20,000 - Bangalore, India'},\n",
       " {'containsPicture': False,\n",
       "  'from': {'id': '566859363346301', 'name': 'Vaibhav Moondra'},\n",
       "  'message': \"Vacancy for 2 flatmates in 2.5 BHK\\n₹8,000 - Mumbai, India\\n\\nVacancy for two chilled out guys in 2.5 bhk\\nLooking for two roommates in 2.5 BHK near LBS marg , Bhandup West\\nMahavir Universe\\nRent: 8000 per head only\\nDeposit: 20000\\n* Fully furnished (washing machine, fridge, geyser, WiFi, Television,cupboards, gas, beds etc.) \\n* Free parking facility for bike and cars\\n* Caring Maid's for cooking and cleaning \\n* No brokerage \\nFor. More details kindly call or WhatsApp on 8422973039 , 8879426624\"},\n",
       " {'containsPicture': False,\n",
       "  'from': {'id': '10206717796685077', 'name': 'Joy Mandal'},\n",
       "  'message': 'Flat mate required.\\n₹6,000 - East Enclave At New Town, Action Area I, Kolkata\\n\\nNeed a male flatmate just opposite East enclave, newtown. Interested plz inbox me.'},\n",
       " {'containsPicture': False,\n",
       "  'from': {'id': '10152534041647181', 'name': 'Sunayana Sahu'},\n",
       "  'message': None},\n",
       " {'containsPicture': True,\n",
       "  'from': {'id': '10204416999858414', 'name': 'Kanika Agarwal'},\n",
       "  'message': \"Room\\n₹14,875 - Carlton estate - phase 5 . Gurgaon\\n\\nHi\\n#femaleonly #nobrokerage \\n#Fullyfurnished room with attached bathroom available for single or double sharing in very well reputed society(free gym facility) in Dlf phase 5 . It's a well furnished flat on 14th floor. I'm looking for my replacement. One who is ready to shift from 1st of January. \\n\\nRent-14,875 for single sharing and 7,440 for double sharing, maintenance included \\nSecurity-28500\\n#electricity divided among flat mates \\n#Cook is as per the choice\\n#Cleaning aunty is in common\\n#All basic amenities are given.\\n#fridge #Ac #wifi #tv #dishtv #oven\\nIt's a safe gated society. Inbox me if anyone interested\"},\n",
       " {'containsPicture': True,\n",
       "  'from': {'id': '1140413689313538', 'name': 'Joyce Dsouza'},\n",
       "  'message': \"A 3 BHK Flat available #Double sharing for Boys #Rent #Fully Furnished Flat in Doddanekundi near Brookfield Mall. \\n\\nHouse is #Huge #Spacious #Beautiful #Peaceful #Cozy and Fully Equipped with T.V, FRIDGE, FULLY AUTOMATIC WASHING MACHINE, SOFA, DINING TABLE, GEYSERS, TABLE, GAS STOVE WITH GAS CONNECTION, FULLY FUNCTIONAL KITCHEN, WIFI, DTH and many more.\\n\\nRooms have Amenities like COTS WITH MATRESSES, PILLOWS, BEDSHEETS, CURTAINS, DRESSING TABLE, SIDE TABLES and many more.\\n\\nApartment has Amenities like 24/7 SECURITY, GYM, POWER BACKUP, LIFT, 24/7 WATER SUPPLY, CAUVERY WATER FACILITY, RESERVED CAR/2WHEELER PARKING, ETC.\\n\\nBills like DTH, ELCTRICITY, WIFI, GAS needs to be shared among Flat Mates.\\n\\nRent including maintenance is only Rs 6500 per head on sharing.\\nSecurity Deposit is only Rs 13000 refundable at the time you vacate.\\n\\nHouse is easily accessible to people working in ITPL, BAGMANE TECH PARK, DODDANEKUNDI ,  MARATHALLI, WHITEFIELD, KUNDALAHALLI, AND NEAR BY TECH PARKS.and has easy access to RING ROAD, BANKS, ATM'S, MARKETS, HOSPITALS, MALLS, COLLEGES, PARLOURS/SALONS,RESTAURANTS,TECH PARKS ETC .\\n\\nLet's catch up . Call us on - 8884447617\"},\n",
       " {'containsPicture': False,\n",
       "  'from': {'id': '10152772315772586', 'name': 'Vipin Vasudev S Pai'},\n",
       "  'message': '2BHK (960 sqft) Semi Furnished for Rent @ Ambalipura, Harlur Road, Bellandur, Bangalore\\n₹20,000 - Bangalore, India\\n\\n2BHK (960 sqft) Semi Furnished for Rent @ Ambalipura, Harlur Road, Bellandur. Given Only to families.\\n\\n2 kms from Ecospace, 1 km from Outer Ring Road and 700 mts to Sarjapur Road.\\n\\nRs. 20000/- including Maintenance. Please inbox me, if you are interested. Available from 12th January'},\n",
       " {'containsPicture': False,\n",
       "  'from': {'id': '10153278627301002', 'name': 'Abhishek Richie'},\n",
       "  'message': 'Brand new 2 BHK Semi Furnished apartments for rent in Bellandur\\n₹26,000 - Bellandur, Bangalore\\n\\nGated Community with Gym, Swimming Pool and Individual Parking space\\nLocated right next to Prestige Tech Park (Literally next to it!!)\\nArea: 1280 Sqft\\nDeposit of five months only\\nIdeal for people working in Marathalli, Sarjapur Road, Cessna, RMZ Eco Space, Eco World\\nCall: +91 9972810853'},\n",
       " {'containsPicture': False,\n",
       "  'from': {'id': '10209006535653268', 'name': 'Paromita Panda'},\n",
       "  'message': '(SOLD) Spacious 2 BHK, in Kadubeesanahalli,near Cessna tech park for rent\\n₹23,000 - Bangalore, India\\n\\nEast facing corner flat (1266 sq ft), 100% Vastu compliant, 2BHK available for rent. Complete woodwork done with modular kitchen. Located on the 3rd floor out of 4 floors, one balcony overlooking pool & garden & other overlooking greens. Very well ventilated with ample natural light. Ideal for professionals working in Bellandur, Cessna tech park, Prestige tech park, Ecospace, Eco world, Intel, Etc.'},\n",
       " {'containsPicture': False,\n",
       "  'from': {'id': '10203260235888865', 'name': 'Harihar Pnru'},\n",
       "  'message': '1bhk apartment for rent at kadugodi Near Jr Govt College.\\n#9,500\\nBangalore, India\\ni am posting behalf of owner\\n#ITPL #PrestigeSantiniketan #GRtechpark #whitefield #Vydehi #forum\\n1 bhk flat 3rd floor for rent very close to whitefield rly stn and satya sai ashram and kadugodi volvo bus stop at Walking distance.\\nItpl and Park square Mall - 3 km\\nPrestige santi niketan/cloud nine /narayana hridalya - 3.5 km\\nManipal hospital:- 4 km\\nVydehi hospital :-6 km\\nForum value mall :-4.5 km\\nPhoenix mall :-7.5 km.\\nMarathalli:- 10km\\n24 hrs security water supply lift car parking area.\\n1 bathroom\\n1 Balcony\\nFlat is semi furnished with wardrobes modular kitchen,very good location. will vacant in 18th Dec 2016\\nRent is 9,500 / including maintance \\nDeposit: 30 K'},\n",
       " {'containsPicture': False,\n",
       "  'from': {'id': '10152800349402302', 'name': 'Suresh Sivaraman'},\n",
       "  'message': '2BHK Ground floor, semi furnished home @Kasavanahalli, near Sarjapur Rd + easy access 2 Elec City\\n₹17,500 - Bangalore, India\\n\\n2BHK Ground floor, semi furnished home in a residential layout. Kasavanahalli, Bangalore near Sarjapur Road.\\nNearest Landmark: Amritha Engineering College, Kasavanahalli \\n\\nDeposit: 6 Months Rent\\n\\nFirst Pref: Small Family; Bachelors also okay.\\n\\nFor more details:\\nRequest you to please send a direct/personal message to me on Facebook. We can discuss on phone thereafter.\\n\\nThank You.'},\n",
       " {'containsPicture': False,\n",
       "  'from': {'id': '10204040038824063', 'name': 'Saurabh Kumar Gupta'},\n",
       "  'message': '2bhk at old airport road\\n₹15,400 - Bangalore, India\\n\\nRifco aruna apartment\\nkonena agarhara, old airport road\\nno brokerage\\nguarded society\\ndeposit 70-80k\\n\\nI am Re-posting on behalf of my owner. last person who blocked the flat, backed off at last moment. Flat is available from 1st dec, Please contact owner directly.\\nName Manjunath shetty\\ncontact: 9740141951'},\n",
       " {'containsPicture': False,\n",
       "  'from': {'id': '10152278189957759', 'name': 'Satish Venu'},\n",
       "  'message': '1 BHK in halanayakanahalli (Opp Wipro Sarjaput) for RENT\\n₹9,000 - Wipro, Sarjapur\\n\\n1 BHK For rent near sarjapur Road Wipro(2 KM)\\n\\njust 2 KM from WIPRO on sarjapur and 1.5 KM from Amrita Engineering college .\\n\\nIdeal For bachelors and family of 2 .\\n\\n1st floor .\\n\\n24/7 water supply\\n\\nSecurity Deposit 5 Months of rent .\\n \\nideal for folks who have their own mode of transport.\\n\\ngoogle maps direction link for the location:\\n\\nContact 99860-66464 (owner)\\n\\nhttps://www.google.co.in/maps/dir/Morigate+Bus+Stop,+Sarjapur+Main+Road,+Kaikondrahalli,+Bengaluru,+Karnataka/Bala+Residence,+Halanayakanahalli,+Bengaluru,+Karnataka+560035/@12.9041419,77.6806367,16z/data=!4m13!4m12!1m5!1m1!1s0x3bae131122984435:0x7b9b13794af019f1!2m2!1d77.6844952!2d12.9107315!1m5!1m1!1s0x3bae133b794f45d7:0x86368d5fa0a18f80!2m2!1d77.6854011!2d12.8976928'},\n",
       " {'containsPicture': True,\n",
       "  'from': {'id': '859666560792823', 'name': 'Manish Goswami'},\n",
       "  'message': '1 bhk full furnished flat 14k rent 1 lakh deposit\\n₹14,000 - Arun Patios-Arun Shelters\\n\\nFull furnished flat prefered for everyone bachelors, couples, family.. 14k rent and 1 lakh deposit..sofa set, bed, wardrobe, dinning table, geyser, gym, swimming pool, groccery shop, near by ccd, foodworld, banks, Atm, vegetable shops..those whor are interested Plzz contact to manish- 9765186305, 7972344887..(ASAP)'},\n",
       " {'containsPicture': False,\n",
       "  'from': {'id': '10208745803503683', 'name': 'Santhosh Kumar'},\n",
       "  'message': '2BHK House for Rent in Vijayanagar.\\n₹20,000 - Bangalore, India\\n\\nSpacious 2 BHK house in Ground Floor with wardrobes in both the rooms along with the Utility space. 24 Hrs water and 2 wheeler parking is available.\\n\\n20000 Rent/200000 Advance (Negotiable).\\n\\n2 Minutes walk to Metro Station and TTMC Bus Stand. Location: Near Bata Show Room/Mc Donalds Vijayanagar.\\n\\n100 % Vaastu compliant \"Vegetarian Families preferred\"\\n\\nContact : 7760471239'},\n",
       " {'containsPicture': False,\n",
       "  'from': {'id': '10203864791197069', 'name': 'Deepa Jayadev'},\n",
       "  'message': 'Looking for a single room house in jayanagar area for my close friend... Urgently needed... \\nAny leads??'},\n",
       " {'containsPicture': True,\n",
       "  'from': {'id': '518913334953097', 'name': 'Sudeshna Podder'},\n",
       "  'message': 'Available from 31st Dec, gated community with all amenities. Distance 0.5 km from ORR, 1.6 km from EMC2, 1 km from Phoenix market city. The flat is fully furnished with all furniture and fittings as in pictures. Owner abroad, no brokerage, rent 24k, monthly maintenance separate. watsapp 001-5404493016.'},\n",
       " {'containsPicture': True,\n",
       "  'from': {'id': '10204467108220603', 'name': 'Nakshatra Maheshwari'},\n",
       "  'message': '#Sarjapur Road, Chikkakannalli, Mana Karmel Society, #3bhk, #Flatmate Required. 26k rent, 1 Lac sec\\n₹8,666 - Sarjapur Road\\n\\nWe are 2 people from IIIT Allahabad. Searching for a flatmate. \\nWe have our own TV, Washing Machine, Fridge, Kitchen Utensils and all the basic amenities required inside the flat.\\nThe society has Gym, Swimming pool, Badminton Court, Club House and Garden. Gym and pool are functional, rest of the amenities are under construction.\\n\\nThe location is highly picturesque. Away from the smoke of Bengaluru.\\nContact no.: 7417591255, 8948309343\\nLocation: https://goo.gl/jt4wK0\\n\\n#NoRestriction\\n#NoInterferenceFromOwner\\n#NoGenderBias\\n#semiFurnished'},\n",
       " {'containsPicture': False,\n",
       "  'from': {'id': '10202910587819020', 'name': 'Mahesh Hegde'},\n",
       "  'message': 'Brand new 2 BHK in gated community for rent (chandapur, near to electronic city)\\n₹11,500 - Vakil Whispering Woods\\n\\nBrand New 2 BHK available for Rent in Vakil Marigold Near Chandapura,15 minutes drive from Electronic city toll gate\\n\\nBest suitable for Family / Couples working in and around Electronic City / Bommasandra. \\n\\nSociety includes outdoor parks, basketball court, club house, swimming pool, Gym, Badminton Room, Squash Room, TT Room,Party Hall,TV Room . You love this place as it gives you modern amenities and Peace environment to relax your body and mind.Vegetarians preferred.\\n\\nRent 9,500 + maintainance 2,000\\nDeposit 60,000\\n\\nAmenities Available: \\n\\nKitchen Cabinet\\n\\nGeyser in both bathrooms\\n\\nCeiling Fans\\n\\nTube light\\n\\nUPS\\n\\nAqua Guard\\n\\nChimney\\n\\nWardrobe in both bed rooms\\n\\nDressing Unit in both bed rooms\\n\\nBed Side table in both bed rooms\\n\\nQueen size bed with mattress in both bed room.\\nCovered car parking\\n\\nContact : 9964004441\\n\\nLocation: 1km from Chandapura'},\n",
       " {'containsPicture': False,\n",
       "  'from': {'id': '10152363314831697', 'name': 'Anirudh Hindupur'},\n",
       "  'message': '2 BHK House\\n₹17,000 - Kodihalli\\n\\nLocation: Kodihalli (behind Leela Palace)\\nAdvance: Rs. 1,00,000\\nRent: Rs 17,000\\nDescription: 2 BHK (extra common attached bathroom), secure, and semi-furnished. Good neighborhood and five-minute walk to Old Airport Road.\\nContact: Ping me on messenger first'},\n",
       " {'containsPicture': False,\n",
       "  'from': {'id': '10153278627301002', 'name': 'Abhishek Richie'},\n",
       "  'message': 'Brand New 3 BHK Semi Furnished apartments for Rent in HSR Layout\\n₹34,000 - HSR Layout\\n\\nEquipped with Power Backup, Covered Parking and Lift\\n Rent 3BHK: INR 34,000.00 + maintenance\\n Security Deposit of Six months Only\\n At walk able distance from HSR Club, Grand Supermarket\\n Call: +91 9972810853'},\n",
       " {'containsPicture': False,\n",
       "  'from': {'id': '10209917073554946', 'name': 'Prasanna Kumar'},\n",
       "  'message': 'FOR RENT: Brand New 2 BHK APARTMENT, VASANTHAPURA,close to ISRO Layout\\n₹13,000 - Bangalore, India\\n\\nThis 1040 Sft and North-facing and fully vaastu-compliant Apartment is located in Maruti Layout, Vasanthapura, adjoining ISRO Layout. This semi-furnished Apartment is available immediately on rent for family/ working executives - Men & Women / group of students - Boys & Girls for Rs. 13000 per month, Maintenance: Rs,1000 per month and a security deposit of Rs.1,30,000. The terms are slightly negotiable.\\nThe Apartment is equipped with complete woodwork including wardrobes, dressing, lofts and modular kitchen. In addition, safety grills, curtain rods, builtin mirrors in wardrobes, ceiling fans and LED bulbs. Both attached bathroom and common bathroom are complete in all respects including W.C., water heater, shower,health faucet, mirror and towel rods. \\nVasantha Vallabharayaswamy Temple, a popular landmark is within the walking distance from this Apartment.\\nThe lift, car parking, bore and Cauvery water are additional facilities.\\nThe proximity to leading IT offices, schools,colleges, hospitals, banks and Malls will be a great advantage.'},\n",
       " {'containsPicture': False,\n",
       "  'from': {'id': '10203676045326586', 'name': 'Yash Chaturvedi'},\n",
       "  'message': 'Spacious #2BHK -3 sides open(1050 Sqft) flat for rent at Belthur #Kadugodi, 09 minutes from #ITPL\\n₹17,000 - Bangalore, India\\n\\nEast facing corner 2BHK flat at good location available for rent from #7thJanuary2017 at #Belthur #kadugodi, facing to #A1Freshsupermarket #Greenwingssalon #Fitnesscentre 300 meters from main road and closer to all major schools #vibgyor #DPSwhitefield #petrolbunk #banks #playschools #medicalstore #parksquaremall #forumvaluemall                                                                                    \\n                                                                                                                                           2 Bedrooms with attached and common bathrooms with fitted geysers, Balcony, Crockery unit with Granite top, 24 hrs water facility & power backup, GYM, Intercom, Party Hall, Play area, Garden, Security available for rent from & 7th January 2017, rent 17000/- inclusive of maintenance (deposit 80,000).                                                                                                                             \\n                                                                                                                                        Please inbox me, If interested'},\n",
       " {'containsPicture': False,\n",
       "  'from': {'id': '10153901929642676', 'name': 'Shailendra Mishra'},\n",
       "  'message': '3 BHK NEW Apartment for rent in SNN RAJ SERENITY Begur road (1465 sq ft)\\n₹21,000 - Begur Road\\n\\n3 BHK NEW Apartment (SEMI FURNISHED) for rent in SNN RAJ SERENITY Begur road (1465 sq ft) - Lake View from bedroom\\n• Close proximity to Electronic City, Royal Meenakshi Mall, Bannerghatta Road, Infosys Electronic City, Wipro Electronic City, Bommanahalli and Silk Board\\n• 3 Bedrooms and 3 Balcony, 2 Bathrooms and Geysers, Kitchen with cabinets and Utility area, Dining and Living room\\n• Wardrobes, Tube lights and fans in all rooms \\n• Gated community with intense security (24X7 security in each building), CCTV Monitored Floors.\\n• Covered Car and Two-wheeler parking\\n• 24 hrs complete power backup\\n• Amenities such as, Big Indoor Swimming Pool and toddler pool, Gymnasium, Spa, Jacuzzi, Steam and Sauna, Yoga room, Poker room \\nBilliards room, Squash Court, Table Tennis Court and Badminton courts, Open Air Restaurant and Sky View Party Halls, Mini Cinema Hall & Club house (including sports halls for kids)\\n• Extensive Outdoor play area for kids\\n• Very good ventilation\\n• 24 hrs water supply\\n• Lift and service lift hence shifting is very easy\\n• 100 percent VASTU compliant\\n• Shopping complex inside campus\\n• Entire community surrounded by lush green and lake view\\n• **RENT EXCLUSIVE OF MAINTENANCE CHARGES**\\nEXPECTED RENT: 21K + maintenance charges \\nMaintenance charges needs to be borne by the tenants. Receipt will be provided for maintenance charges.\\nContact details:\\nInterested folks, kindly drop me a message on Facebook. We can coordinate further from there and exchange phone numbers.'},\n",
       " {'containsPicture': False,\n",
       "  'from': {'id': '10152216340556867', 'name': 'Saurabh Mathur'},\n",
       "  'message': 'Fully furnished 2 BHK flat for rent at Choodasandra, Bangalore\\n₹16,000 - Alden, MN (56009)\\n\\n2 BHK Fully furnished flat for rent in Choodasandra, near Kasavanhalli, Off Sarjapur Road, Bangalore. Available from 24th Nov 2016.\\n\\nIt includes TV, Refrigerator, Sofa set, Beds in both rooms, Microwave, Indoor-Outdoor swing, Washing Machine, dinning table, invertor, wi-fi.\\n\\nAmenities includes Swimming Pool, Badminton Court, Table Tennis, Gym, Children Play Area, Basket ball court, Jogging Track, Power Backup, Covered Car Parking.\\n\\nThe Rent amount is Rs.16000 per month + maintenance.\\n\\nContact Sanjay Sahni for more details: +91-9999110823'},\n",
       " {'containsPicture': True,\n",
       "  'from': {'id': '385809385091948', 'name': 'Vinod Kumar Galla'},\n",
       "  'message': '2BHk independent house flat available for rent from 1st January 2017\\n₹16,000\\n\\nClose to super market,Bagmane WTC,Samsung ,HP ,IT office and BMTC office and Day care. Venkateshwara layout.outer ring road mahadevapura.\\nOpp to nester raga, cheerup Angles day care'},\n",
       " {'containsPicture': False,\n",
       "  'from': {'id': '683399938401045', 'name': 'Ranita Roy'},\n",
       "  'message': 'To let 2bhk flat\\n₹12,500 - Btm 2nd stage\\n\\nSpacious.semifurnished.deposit 50k lil bit negotiable.near axa building and available for anyone.24×7water supply.available from 1st Jan.any leads would be appreciated.'},\n",
       " {'containsPicture': True,\n",
       "  'from': {'id': '10209395187349401', 'name': 'Bikash Kumar Sha'},\n",
       "  'message': '2BHK East facing flat for sale in Puravankara Highland\\n₹6,500,000 - Bangalore, India\\n\\n2 BHK flat [1339 sqft] available for sale in Purva Highland, off Kanakpura road, Near Kumaran School.\\nPrice - INR 6500000 \\nCall me on 9632677992 for further details!!!!\\n\\nwww.puravankara.com'},\n",
       " {'containsPicture': False,\n",
       "  'from': {'id': '10208177044337927', 'name': 'Sofs Su'},\n",
       "  'message': \"Spacious 2 bhk. Just 100 meters from Maruthi Sevanagar bus stop.. This property comprises of spacious hall with kitchen, dining, 2 bed rooms with one common bath cum toilet and one attached to master bedroom. Complete wood work in all the rooms. Modern fittings and fixtures provided in all the rooms. Good cross ventilation and lighting. The house has three balconies.Closed Parking space available. 24 hours cauvery/borewell water. Security personnel present 24x7. Close to the main road which comprises,Shops, Bus stop, Banks, ATM's, Hospital, Restaurants,Orion mall etc. These said places are all at walk able distance only. Ideal for families.\\nIf interested message.\"},\n",
       " {'containsPicture': False,\n",
       "  'from': {'id': '1517797391806738', 'name': 'Ruby Sharma'},\n",
       "  'message': \"1.5 BHK flat for rent in Kodichikanahalli, rent 7.9k\\n₹7,900 - Bangalore, India\\n\\n# Apartment name: Prabhavathi garden, Lake city, Kodichikanahalli, Bangalore-76\\n\\n# It's a furnished flat (1.5 bhk) with modular kitchen, Wardrobe, Geyser, Electric fittings, Complete grill work for main door and balcony.\\n\\n# Flat located in excellent locality and great connectivity. Its 2.4 km distance from bannerghatta main road, 2.8 km from silk board. \\n\\nAlthough its with great connectivity to major it hubs, It is also away from pollution as its in back side of btm (Madiwala) lake.\\n\\n# apartment has lift, 24 hours security, Power backup, Intercom, Cauveri water connection, Borewell, Rain water harvesting, Waste management. It has 2 no.S of 2 wheeler parking, No dedicated car parking- But could be manageable in layout. Total area of flat 600 sqft\\n\\n# Floor- First, 1 living room, 1 bedroom, 1 study room, 1 bathroom, 1 balcony, House facing- North\\n\\n# Land- A Khata, Flat- B Khata (Bank loan available, already loan running through nationalized bank)\\n\\n# Property Age: 6 years\\n\\n# Water - Corporation and Borewell both available.\\n\\n# Total Floor = G +3 Floor\"},\n",
       " {'containsPicture': True,\n",
       "  'from': {'id': '1601456813421630', 'name': 'Ayesha Khan'},\n",
       "  'message': 'A room on sharing basis in a fully furnished 2bhk\\n₹8,000 - Bangalore, India\\n\\nHi,\\nWe are 3 girls staying in a beautifully located duplex in a gated community.Lift facility available.\\nWe require a female flatmate for a room on sharing basis.\\nThe apartment is fully furnished with beds,matteress,TV,WiFi, fridge microwave and a fully functional kitchen.\\nCook & maid already available.\\nNo water or electricity issues.\\nAbsolutely chilled out owner.\\n24 hours security.\\nLift facility available.\\nLocation: Sony Centre Signal, Kormangala\\nRent :22,000 ( divided by 3)\\nMaintenance : 2125 (per person per qtr) \\nSecurity : 40k \\nAvailable :December 1st (negotiable)\\nPlease ping/msg for further details.'},\n",
       " {'containsPicture': True,\n",
       "  'from': {'id': '512668092251834', 'name': 'Krishu Dhillo'},\n",
       "  'message': 'LUXURIOUS HOUSE  PG FOR GIRLS  \\n\\nNEWLY BUILDING  IN SECTOR 53\\n\\nThe PG IS LOCATED AT - SEC 53, NEAR UMA DHABHA GOLF COURSE ROAD\\n\\nDISTANCE FROM  BELOW LOCATIONS\\n\\n50MTRS FROM PARK HOSPITAL\\n100 MTRS FROM VATIKA TOWERS\\n100 MTRS FROM HDFC BANK HEAD OFFICE\\n100 MTRS FROM SUN CITY TOWES\\n500 MTRS FROM ONE HORIZAN CENTER\\n50 MTRS FROM GOLF COURSE ROAD\\n\\nMANY OTHER COMPANIES OFFICES NEAR BY \\n\\nWALLMART \\nAUDI\\nPORCHE\\nGENPACT\\nSOUTH POINT MALL\\nAUGUSTA POINT\\nPARAS DOWN TOWN\\nSUNCITY BUSSINESS PARK\\nTIME SQUARE\\nCENTRUM PLAZA\\nGOLF VIEW TOWERS\\nDELL\\nSAMSUNG\\nWELLDONE\\nAIRTEL\\nAMERICAN EXPRESS\\nTHE EXECUTIVE CENTER\\nZOMATO\\n\\n2 Amenities include :-.\\n\\n1 Air conditioned, fully furnished rooms \\n2. 32\"L.E.D  with tata sky in all rooms  \\n3. Breakfast, lunch & dinner  \\n4. Attach bathroom  \\n5. geyser \\n6. Attached balcony \\n7. 24 Hr power & water back up\\n8. New furniture in all rooms\\n9. Drinking r.o. water \\n10. Daily cleaning of rooms\\n11. High Speed Wi-Fi Internet \\n12.Free car and bike parking \\n13.Quality food will be 1st priority  \\n14. Walking distance from Auto and Taxi Stand.  \\n15. Washing Machine \\n16.Frige\\n17.Security with cam  & security guard.  \\n18.Near market  \\n\\nSingle sharing 21k\\n\\nDouble sharing:- 12 k\\n\\nCONTACT - 9891778844\\n                     - 7835850005'},\n",
       " {'containsPicture': True,\n",
       "  'from': {'id': '512668092251834', 'name': 'Krishu Dhillo'},\n",
       "  'message': 'LUXURIOUS HOUSE  PG FOR GIRLS  \\n\\nNEWLY BUILDING  IN SECTOR 53\\n\\nThe PG IS LOCATED AT - SEC 53, NEAR UMA DHABHA GOLF COURSE ROAD\\n\\nDISTANCE FROM  BELOW LOCATIONS\\n\\n50MTRS FROM PARK HOSPITAL\\n100 MTRS FROM VATIKA TOWERS\\n100 MTRS FROM HDFC BANK HEAD OFFICE\\n100 MTRS FROM SUN CITY TOWES\\n500 MTRS FROM ONE HORIZAN CENTER\\n50 MTRS FROM GOLF COURSE ROAD\\n\\nMANY OTHER COMPANIES OFFICES NEAR BY \\n\\nWALLMART \\nAUDI\\nPORCHE\\nGENPACT\\nSOUTH POINT MALL\\nAUGUSTA POINT\\nPARAS DOWN TOWN\\nSUNCITY BUSSINESS PARK\\nTIME SQUARE\\nCENTRUM PLAZA\\nGOLF VIEW TOWERS\\nDELL\\nSAMSUNG\\nWELLDONE\\nAIRTEL\\nAMERICAN EXPRESS\\nTHE EXECUTIVE CENTER\\nZOMATO\\n\\n2 Amenities include :-.\\n\\n1 Air conditioned, fully furnished rooms \\n2. 32\"L.E.D  with tata sky in all rooms  \\n3. Breakfast, lunch & dinner  \\n4. Attach bathroom  \\n5. geyser \\n6. Attached balcony \\n7. 24 Hr power & water back up\\n8. New furniture in all rooms\\n9. Drinking r.o. water \\n10. Daily cleaning of rooms\\n11. High Speed Wi-Fi Internet \\n12.Free car and bike parking \\n13.Quality food will be 1st priority  \\n14. Walking distance from Auto and Taxi Stand.  \\n15. Washing Machine \\n16.Frige\\n17.Security with cam  & security guard.  \\n18.Near market  \\n\\nSingle sharing 21k\\n\\nDouble sharing:- 12 k\\n\\nCONTACT - 9891778844\\n                     - 7835850005'},\n",
       " {'containsPicture': True,\n",
       "  'from': {'id': '770628256324943', 'name': 'Sameer Muni'},\n",
       "  'message': \"Urgent.. flat is ready for possession now..\\nHi I'm a owner I've a 1bhk flat at yari road, versova, Andheri west. I want to give on rent for 27k\\nIt's fully furnished \\nIt's with fridge, washing machine, AC, 2 gas cylinders & a automatic 3 burner stove. Tea table, 3+1+1 sofa, mixer grinder kitchen covered with wooden door n with glass shelfs.  It also has a double bed with new medicated mattress  and a wardrobe\"},\n",
       " {'containsPicture': False,\n",
       "  'from': {'id': '10152834799160210', 'name': 'Ananya Chaudhary'},\n",
       "  'message': 'TaRu ChaudhaRy is looking for FEMALE accommodation on sharing basis with NO BROKERAGE between Bandra and Andheri within close proximity to metro or local train.\\nMaximum Rent Budget: Rs. 10,000\\nAll leads will be appreciated.'},\n",
       " {'containsPicture': False,\n",
       "  'from': {'id': '10154223531610277', 'name': 'Shriya Channa'},\n",
       "  'message': 'SHORT TERM SINGLE OCCUPANCY ROOM\\n₹800 - Santacruz Vakola Mumbai\\n\\nSHORT TERM - SINGLE OCCUPANCY ROOM AVAILABLE IN A 3BHK for SINGLE WORKING WOMEN in SANTACRUZ EAST - CLOSE TO BKC and WESTERN EXPRESS HIGHWAY - AVAILABLE IMMEDIATELY TILL 28th of DECEMBER. MESSAGE ON FB IF INTERESTED. CHARGE 800 per day.'},\n",
       " {'containsPicture': False,\n",
       "  'from': {'id': '254217128275035', 'name': 'Stuti Paranjape'},\n",
       "  'message': '#2Bhk for rent in Blueridge in T4 tower , #Hinjewadi , #NoBrokerage #Family .\\nFloor 16th\\nRent- 17000/-\\nDeposit- 55000/-\\nPlease call 8308806455 to see the flat.'},\n",
       " {'containsPicture': False,\n",
       "  'from': {'id': '10205770516326263', 'name': 'Simren Ohri'},\n",
       "  'message': 'Furnished Single Occupancy Room for a Girl - Andheri West !\\nRent of the room - 25K. Other details - On request \\nRoom is tastefully furnished with kitchen & private bathroom. Prime Lokhandwala area. Centrally located. \\nAvailable for long term stay. Those interested, Inbox me for details.'},\n",
       " {'containsPicture': True,\n",
       "  'from': {'id': '538980732885042', 'name': 'Nitish Bharadwaj'},\n",
       "  'message': None},\n",
       " {'containsPicture': False,\n",
       "  'from': {'id': '838192462876154', 'name': 'Jenie Maragañas'},\n",
       "  'message': 'Email me at va.jenie@gmail.com / jensm.23@gmail.com or please call or leave a message to the ff. numbers 646-535-1432 / (970) 316-2610'},\n",
       " {'containsPicture': False,\n",
       "  'from': {'id': '830847100321856', 'name': 'Ankkit Malviyaa'},\n",
       "  'message': '#NoBrokrage,Andheri West\\nI am staying in this flat and I am looking for 1 more male flatmate to share a semi furnished flat in Four Bungalows, Andheri West I need a working,non drinker & non smoker flatmate. Friends and party etc not allowed in the flat. Looking for a like minded person who is calm and decent.Filmy people please excuse.Rent: 7000 & Deposit: 7000 Cable charges, Wi-Fi & electricity bill is extra which is needs to be shared DN Nagar, Versova Metro Station, Four Bungalows Market, Atm, Bus Stop,Market are nearby to this flat.\\nAnkkit Malviyaa - 7666819638'},\n",
       " {'containsPicture': True,\n",
       "  'from': {'id': '10209425308938866', 'name': 'Ashish Bhartia'},\n",
       "  'message': None},\n",
       " {'containsPicture': True,\n",
       "  'from': {'id': '254217128275035', 'name': 'Stuti Paranjape'},\n",
       "  'message': None},\n",
       " {'containsPicture': False,\n",
       "  'from': {'id': '962543840436838', 'name': 'Garima Naithani'},\n",
       "  'message': 'Hi dear.. looking for a flatmate in powai gandhinagar .from dec end . Its a  2.5 bhk shared by 5 girls. \\nThe  beautiful house is on 15 floor of trikutta tower , with superb ventialton . Maid comes for cleaning and  washing clothes\\nHouse has: \\nWifi\\nGas \\nWater purifier\\nSociety has gym , jogging  track and lift system.\\n\\nRent: 7600 rs per head'},\n",
       " {'containsPicture': False,\n",
       "  'from': {'id': '10153227115161114', 'name': 'Danesh Havewala'},\n",
       "  'message': 'Condominium for rent in a quiet, decent and peaceful middle class society.\\n\\nAiry and West facing with a good view, ample sunlight.\\n\\nFacilities:\\n- 24 hour municipal water supply. Borewell water also available.\\n- 4 and 2 wheeler parking available. \\n- Bedding, Cupboard and Fridge\\n- Security\\n- 2 minutes from WE highway and 10 min from Borivali/Kandivali station\\n- Schools, Hospitals Restaurants, Clubs, Supermarkets all in the vicinity\\n\\nThis is perfect for those that want a quiet pad to relax after a long day or over a weekend and still want the conveniences of home delivery and 2 min distances available to them.\\n\\nLocation: Thakur Complex, Kandivali East.\\n\\nPlease pm me for details.\\n\\nCheers,\\nDanesh'},\n",
       " {'containsPicture': False,\n",
       "  'from': {'id': '10153227115161114', 'name': 'Danesh Havewala'},\n",
       "  'message': 'Condominium for rent in a quiet, decent and peaceful middle class society.\\n\\nAiry and West facing with a good view, ample sunlight.\\n\\nFacilities:\\n- 24 hour municipal water supply. Borewell water also available.\\n- 4 and 2 wheeler parking available. \\n- Bedding, Cupboard and Fridge (optional)\\n- Security\\n- 2 minutes from WE highway and 10 min from Borivali/Kandivali station\\n- Schools, Hospitals Restaurants, Clubs, Supermarkets all in the vicinity\\n\\nThis is perfect for those that want a quiet pad to relax after a long day or over a weekend and still want the conveniences of home delivery and 2 min distances available to them.\\n\\nLocation: Thakur Complex, Kandivali East.\\n\\nPlease pm me for details.\\n9920421989\\n\\nCheers,\\nDanesh'},\n",
       " {'containsPicture': False,\n",
       "  'from': {'id': '10202947715028443', 'name': 'Karishma Abhiman'},\n",
       "  'message': '#female #vakola \\nLooking for a female roommate. One room available in a fully furnished, spacious 2BHK. 5 mins aways from airport. 10 mins away from bkc. 10 mins away from Phoenix Marketcity. Please inbox for more details.'},\n",
       " {'containsPicture': False,\n",
       "  'from': {'id': '861114163928078', 'name': 'Rinku Pandita'},\n",
       "  'message': 'Getting likes is easy now with <3 Aqua Liker .com (Search On Google <3 )'},\n",
       " {'containsPicture': False,\n",
       "  'from': {'id': '10152737235092433', 'name': 'Shubham Bansal'},\n",
       "  'message': 'Room-mate to share 1 BHK  fully furnished\\n₹14,500 - Lower Parel (W)\\n\\nLooking for a room-mate to share a #1 BHK #Lowerparel, next to Peninsula corporate park\\nRent: 29000 (to be shared between 2 people)\\n#NoBrokerage\\nWell furnished with amenities like internet connection, microwave, fridge, Sofa, 3 door wardrobe, utensils etc.\\nEasy accessibility and walking distance from Lower Parel station.\\nPlease comment or inbox me if you are interested and would like to see the flat this weekend'},\n",
       " {'containsPicture': False,\n",
       "  'from': {'id': '10202911415898164', 'name': 'Santosh Papade'},\n",
       "  'message': '#Only For MALES  #Without Brokerage #Single Occupancy and Twin-sharing options in a 3-BHK and 1-RK Fully Furnished Apartment.\\n\\n#For people working between Cuffe Parade / Colaba / Nariman Point / Churchgate / CST (VT) / Fort / Lower Parel / SOUTH MUMBAI Locations  \\nupto \\nGhatkopar / Chembur / Mankhurd / Vashi / Bandra / Vikhroli / BKC \\n\\n# Bandra Kurla Complex - BKC  Citibank building is 10 minutes walking. \\n# Windsor / Edelweiss / L & T Finance building / Dani Corporate Park is 1 km away.\\n# Only 5 minutes walking to Kurla West Railway Station. \\n\\n# Capacity: Maximum 6 people and 3 washrooms. \\n\\n# Amenities: Single beds , separate cupboard , Fridge, Fully Automatic Washing machine, Samsung microwave, basic kitchen utensils , Aquaguard (high end model runs on electricity) ,  geyer, gas , LED TV , common living room, dining table , Air Condition room, Wifi , 24x7 Water and Electricity , etc.\\n\\n#AC as well Non AC both options are available.\\n\\n#Twin-sharing Rent: 9000 per head , Single Occupancy with single bed 17500.\\n\\nContact me 9699550066 (I am the owner and not a broker) and the place is available from 1st of August 2016 onwards.'},\n",
       " {'containsPicture': False,\n",
       "  'from': {'id': '10202516616059524', 'name': 'Nihaal Kakade'},\n",
       "  'message': 'Urgently Looking for chilled out Working flatmates JAN 2017 0nwards.\\n\\nSingle occupancy possible . 1 huge bedroom and 1 small bedroom is available . Rent is Rs.17000 for the huge bedroom (Deposit Rs.40000 )and Rs.14000 is for small bedroom (Deposit Rs 30,000). Other things Electricity will be shared equally.\\n\\nIts a premium flat with chilled out society with no problem with bachelors . \\nPlease dont compare it with malad mhada flats as its far better in looks , space and location . Also 24-7 water, electricity with level 3 security,cctv cameras is available.\\n\\nThe room is huge and not like typical Mumbai matchbox kind of room . we have swimming pool , gym , garden , community banquet hall in our complex . \\nLocation is : Malad West , Near Mith Choki .\\nwhatsapp /call / sms 8879063330'},\n",
       " {'containsPicture': True,\n",
       "  'from': {'id': '787060514648053', 'name': 'Sadhana Sinha'},\n",
       "  'message': 'Hello Girls,\\n\\nOne room with attached washroom in a fully furnished #2BHK at #Ozone #Evergreen Apartments, #Haralur road, off #Sarjapur road, is available from #1st of #January. The room has wardrobe with attached full length mirror.\\nThe house if fully furnished along with modular kitchen :\\n  1.Sofa + centre table\\n  2.dining table\\n  3.Fridge\\n  4.Fully automatic washing machine\\n  5.Microwave\\n  6.Stove\\n  7.All kitchen utensils\\n8. Wifi is configured and dual Videocon d2h connection is in place.\\n\\nThe Apartment has all the facilities and the compound is safe and green.\\nCheck it out : https://www.google.co.in/maps/place/Ozone+Evergreens/@12.9092414,77.5934546,12z/data=!4m18!1m12!4m11!1m3!2m2!1d77.675337!2d12.9089067!1m6!1m2!1s0x3bae1365d046b745:0xe0c3d077a96033a5!2sozone+evergreen+apartments!2m2!1d77.6634951!2d12.9092507!3m4!1s0x3bae1365d046b745:0xe0c3d077a96033a5!8m2!3d12.9092507!4d77.6634951\\n\\nIt has :\\n1. ICICI Atm\\n2. 3 Swimming pools : Common, ladies and kids\\n3. Jacuzzi\\n4. Club house\\n5. Gym\\n6. Table tanning\\n7. Billiards\\n8. Yoga centre\\n9. Zumba classes\\n10. Tennis court\\n11. Basketball court\\n12. Volleyball ground\\n13. Kids play area\\n\\nThe rent per month is 12100 including maintenance and the deposit is 75000.\\n\\nThere are grocery store, vegetable mart, clothes store, medical store, meat mart, bakery , stationary and other stores right across the road and in 100 meters vicinity.\\n\\nPlease inbox us me and Anita Louis if interested.'},\n",
       " {'containsPicture': True,\n",
       "  'from': {'id': '185819188544989', 'name': 'Prerna Joshi'},\n",
       "  'message': '#No_Brokerage #Single_Occupancy #Twin_Sharing CALL on 9108044529\\n₹8,000 - Bangalore, India\\n\\nIf anyone is looking for a #Shared_Accommodation in #Indira_Nagar #Koramangala #Bellandur #Marathahalli #Panathur #Kadubeesanahalli #Whitefield #Sarjapur #BTM_layout #JP_Nagar #Domlur #Pai_Layout #Murugesh_Palya #HBR_Layout #Mahadevpura #ITPL #AECS_Layout\\n\\nPlease Contact on 9108044529\\n<<<<< For all the details and Images >>>>>\\n\\nRent for Twin sharing starts from 6,000 - 10,000\\nRent for Single Occupancy starts from 12,000 - 18,000\\n\\n#Fully_Furnished and #Semi_Furnished #Flats at #Affordable_Rents #Happy_Living #Happy_Renting'},\n",
       " {'containsPicture': False,\n",
       "  'from': {'id': '1696771543880056', 'name': 'Royhit Rohit'},\n",
       "  'message': \"Semi furnished flat available for rent\\nIt's a studio apartment\\n( 1rk), area : 280 sqft, near indiabulls finance centre close to sena pati bapat road, or tulsi pipe road, 5 min walking distance from elphinston or Parel railway station, rent 17, 000, deposit 1lack..\\nFor more info feel free to contact me on\\n9702188719 ( Rohit )\"},\n",
       " {'containsPicture': False,\n",
       "  'from': {'id': '10153308394202269', 'name': 'Amjad Khan'},\n",
       "  'message': 'Request all the brokers not to send me a membership request and people please this is not a platform from where you can promote your XYZ company / page/ products, in doing so I will be forced to ban you! Thanks for cooperating.'}]"
      ]
     },
     "execution_count": 6,
     "metadata": {},
     "output_type": "execute_result"
    }
   ],
   "source": [
    "postsRelevantData=extractPostsData(jsonDataList)\n",
    "#postsRelevantData=json.dumps(postsRelevantData)\n",
    "postsRelevantData"
   ]
  },
  {
   "cell_type": "code",
   "execution_count": 8,
   "metadata": {
    "collapsed": false
   },
   "outputs": [
    {
     "name": "stdout",
     "output_type": "stream",
     "text": [
      "45\n"
     ]
    }
   ],
   "source": [
    "#Uncomemnt Below 2 lines, to train the Model\n",
    "#Ideally, Build an UI to enable Training(Training using Text Editor Sucks)\n",
    "#with open('fbPostsTrainingData.model', 'w') as outfile:\n",
    "#    json.dump(postsRelevantData, outfile)\n",
    "postsTrainingData=[]\n",
    "with open('fbPostsTrainingData.model') as data_file:    \n",
    "    postsTrainingData = json.load(data_file)\n",
    "print(len(postsTrainingData))"
   ]
  },
  {
   "cell_type": "code",
   "execution_count": 9,
   "metadata": {
    "collapsed": false
   },
   "outputs": [],
   "source": [
    "import nltk\n",
    "from nltk.corpus import wordnet as wn\n",
    "stemmer=PorterStemmer()"
   ]
  },
  {
   "cell_type": "code",
   "execution_count": 10,
   "metadata": {
    "collapsed": false
   },
   "outputs": [],
   "source": [
    "def getSynonymsUsingWordNet(words):\n",
    "    synonymSet=set()\n",
    "    for word in words:\n",
    "        synonymSet.add(word)\n",
    "        synonyms=wn.synsets(word)\n",
    "        for synonym in synonyms:\n",
    "            synName=synonym.name()\n",
    "            synNameparts=synName.split(\".\")\n",
    "            synName=synNameparts[0]\n",
    "            synonymSet.add(synName)\n",
    "    return synonymSet"
   ]
  },
  {
   "cell_type": "code",
   "execution_count": 11,
   "metadata": {
    "collapsed": true
   },
   "outputs": [],
   "source": [
    "#Features Related to Couting Named Entities within a POST : Didn't turnout to be a great feature :(\n",
    "def extract_entity_names(entityTree):\n",
    "    entity_names = []\n",
    "    nltkNESet=('LOCATION','PERSON','ORGANIZATION','DATE','TIME','MONEY','PERCENT','FACILITY','GPE')\n",
    "    if(hasattr(entityTree,'label') and (entityTree.label() in nltkNESet)):\n",
    "        entity_names.append(entityTree)\n",
    "    return entity_names\n",
    "def findAllNEChunks(text):\n",
    "    for sent in nltk.sent_tokenize(text):\n",
    "        neChunks=nltk.ne_chunk(nltk.pos_tag(nltk.word_tokenize(sent)))\n",
    "    return neChunks\n",
    "def getNECountforAPost(postDesc):\n",
    "    postDesc=postDesc.replace(\"\\n\",\".\")\n",
    "    neChunks=findAllNEChunks(postDesc)\n",
    "    entityNames = []\n",
    "    for neChunk in neChunks:\n",
    "        entityNames.extend(extract_entity_names(neChunk))\n",
    "    return len(entityNames)"
   ]
  },
  {
   "cell_type": "code",
   "execution_count": 12,
   "metadata": {
    "collapsed": false
   },
   "outputs": [],
   "source": [
    "def getAmenitiesCount(postDesc):\n",
    "    #List of Amenities - Courtesy : CommonFloor+FB Posts :-)\n",
    "    #To avoid redundancy, I have STEMMED and LOWERCASED all of these amenities\n",
    "    amenitiesSet=('garden','recreat','power','backup','clubhous','harvest','commun','swim',\n",
    "                  'gym','gymnasium','indoor','intercom','tile','park','vitrifi','cupboard','kitchen',\n",
    "                  'live','din','balconi','wardrob','granit','floor','wifi','tv','maid','servant',\n",
    "                  'electr','badminton','tenni','basketball','basket','modular','microwav','groceri','store',\n",
    "                  'oven','tataski','wash','aquaguard','play','fridg','attach','restroom','bathroom','separate',\n",
    "                  'clubhous','intercom','gate','up','wardrob','cupboard','filter','hall','sofa','cupboard','tata'\n",
    "                 'purifi','airport','busstand','busstop','bu','rack','room','tabl','furnitur','dine','televis',\n",
    "                  'cctv','geyser','wi-fi','machin','secur','internet')\n",
    "    postDesc=postDesc.lower()\n",
    "    words=nltk.word_tokenize(postDesc)\n",
    "    wordMembership=[stemmer.stem(word) in amenitiesSet for word in words]\n",
    "    #requires Scaling ~~> Larger posts will have higher expected value of Amenities\n",
    "        # To make the model robust to POST size ~~> Scale the count[Feature Scaling is important in many algorithms]\n",
    "    return sum(wordMembership)/len(words)"
   ]
  },
  {
   "cell_type": "code",
   "execution_count": 13,
   "metadata": {
    "collapsed": false
   },
   "outputs": [],
   "source": [
    "#Used this module to get the  STEMS: ONE TIME EFFORT: SHOULDN'T RECOMPUTE\n",
    "#tenantPhraseList=[('looking','apartment'),('looking','flat'),('looking','house'),('leads','please'),('any','leads')]\n",
    "#tenantPhraseList.extend([('new','delhi'),('new','bangalore'),('new','chennai'),('new','pune'),('new','mumbai')])\n",
    "#ownerPhraseList=[('looking','flatmate'),('looking','pg'),('looking','male'),('looking','female'),('looking','boy'),('looking','girl')]\n",
    "#ownerPhraseList.extend([('available','apartment'),('available','flat'),('available','house')])\n",
    "#ownerPhraseList.extend([('flatmate','required'),('need','flatmate'),('flat','mate')])\n",
    "#ownerPhraseList.extend([('good','access'),('nice','locality'),('shared','accommodation'),('walking','distance')])\n",
    "#stems=[stemmer.stem(w[1]) for w in ownerPhraseList]"
   ]
  },
  {
   "cell_type": "code",
   "execution_count": 14,
   "metadata": {
    "collapsed": false
   },
   "outputs": [],
   "source": [
    "def getStemmedBigrams(postDescription):\n",
    "    postDescription=postDescription.replace(\"#\",\" \")\n",
    "    commentWords=nltk.word_tokenize(postDescription)\n",
    "    stopwordList=stopwords.words('english')\n",
    "    stopwordList.extend([',',':','','(',')','&','#','.','!','!!','/','bhk','hk','rk','1bhk','1/2bhk','2bhk','2/3bhk','3bhk','3/4bhk','4bhk'])\n",
    "    stopwordList.extend(range(9))\n",
    "    content = [comment.lower() for comment in commentWords if comment.lower() not in stopwordList]\n",
    "    stemmedContent=[stemmer.stem(cont) for cont in content]\n",
    "    contentBigrams=list(nltk.bigrams(stemmedContent))\n",
    "    return contentBigrams"
   ]
  },
  {
   "cell_type": "code",
   "execution_count": 15,
   "metadata": {
    "collapsed": false
   },
   "outputs": [],
   "source": [
    "#This method returns 1(Tenant/BUYER); -1(OWNER/SELLER); 0:Neutral [Categorical Feature]\n",
    "def getAggregateOwnerTenantCat(postDescription):\n",
    "    postDescription=postDescription.lower()\n",
    "    tenantWordList=[\"budget\"]\n",
    "    ownersWordList=[\"flatmate\",\"rent\",\"deposit\"]\n",
    "    for tenantWord in tenantWordList:\n",
    "        if postDescription.count(tenantWord)>0:\n",
    "            return 1\n",
    "    for ownersWord in ownersWordList:\n",
    "        if postDescription.count(ownersWord)>0:\n",
    "            return -1\n",
    "    return 0\n",
    "\n",
    "#Below method counts the frequency of matching Stemmed bigrams to Tenant Stemmed Bigrams\n",
    "def getTenantPhraseCount(postDescription):\n",
    "    #tenantPhraseListLev1 contains Stemmed Bigrams whose occurence exhibits very high \n",
    "        #probability of the POST posted by Tenant\n",
    "    tenantPhraseListLev1=[('look','apart'),('look','flat'),('look','near'),('look','around'),('look','pg'),\n",
    "                          ('look','hous'),('look','accommod'),('lead','pleas'),('ani','lead')]\n",
    "    tenantPhraseList=[('seek','apart'),('seek','flat'),('seek','accommod'),('seek','hous'),('lead','pleas'),\n",
    "                      ('ani','lead')]\n",
    "    #Intuition is sentences like : \"I am new to Bangalore and looking for ...\"\n",
    "    tenantPhraseList.extend([('new','delhi'),('new','bangalor'),('new','chennai'),('new','pune'),('new','mumbai')])\n",
    "    count=0\n",
    "    tenantBigrams=getStemmedBigrams(postDescription)\n",
    "    for (w1,w2) in tenantBigrams:\n",
    "        if(w1,w2) in tenantPhraseListLev1:\n",
    "           count = count+3\n",
    "        elif(w1,w2) in tenantPhraseList:\n",
    "           count = count+1\n",
    "    return count#No need to Scale:Length of post doesn't REALLY changes the fequency count\n",
    "\n",
    "#Below method counts the frequency of matching Stemmed bigrams to Owner's Stemmed Bigrams\n",
    "def getOwnerPhraseCount(postDescription) :\n",
    "    ownerPhraseList=[('look','flatmat'),('look','male'),('look','femal'),('look','boy'),\n",
    "                     ('look','girl'),('pg','girl'),('pg','boy'),('pg','male'),('pg','femal')]\n",
    "    ownerPhraseList.extend([('avail','apart'),('avail','flat'),('avail','hous'),('avail','room'),('avail','sale'),\n",
    "                            ('avail','rent')])\n",
    "    ownerPhraseList.extend([('apart','avail'),('flat','avail'),('hous','avail')])\n",
    "    #PG folks will say \"Looking for a Shared Accomodation\"\n",
    "    ownerPhraseList.extend([('flatmat','requir'),('need','flatmat'),('need','roommat')\n",
    "                            ,('flat','mate'),('share','accommod')])\n",
    "    #Owners do tend to describe in terms of- \"nice locality\",\"good accessibility\",\"walking distance from Landmark X\"\n",
    "    ownerPhraseList2=[('good','access'),('nice','local'),('walk','distanc')]\n",
    "    count=0\n",
    "    ownerBigrams=getStemmedBigrams(postDescription)\n",
    "    for (w1,w2) in ownerBigrams:\n",
    "        if(w1,w2) in ownerPhraseList:\n",
    "           count=count+1\n",
    "    for (w1,w2) in ownerBigrams:\n",
    "        if(w1,w2) in ownerPhraseList2:\n",
    "           count=count+1 #This Counting for the time being is not scaled: Needs Some Smart Scaling\n",
    "    #No need to scale, Size doesn't really impact the frequency of these terms[ownerPhraseList2 has exception]\n",
    "        #Ideally, there should be some scaling on ownerPharseList2 items occurence:Ignored for the time being\n",
    "    return count\n",
    "def doesContainPG(postDescription):\n",
    "    postDescription=postDescription.replace(\"\\n\",\" \")\n",
    "    postDescription=postDescription.lower()\n",
    "    listOfPGTerms=[\"pg\",\"paying guest\"]\n",
    "    for pgterm in listOfPGTerms:\n",
    "        if postDescription.find(pgterm) >= 0:\n",
    "            return True\n",
    "    return False\n",
    "def generateFeatuesOnAFlatRelatedPost(postedData):\n",
    "    postDescription=postedData['message']\n",
    "    features = {}\n",
    "    #features[\"count_NEs\"]=getNECountforAPost(postDescription) #Seems to be a Bad Feature\n",
    "    #features[\"NoOfPOstsMadebyUser\"]=getNumOfPostsBySameUser(postData[0]) #Good feature, but don't have sufficient Data\n",
    "    #features[\"description_size\"]=len(postDescription) #Turned Out to be a Bad Feature with other Combinations\n",
    "    features[\"containsImage\"]=postedData['containsPicture']\n",
    "    features[\"aggregatedOwnerTenantCat\"]=getAggregateOwnerTenantCat(postDescription)\n",
    "    features[\"count_tenant_Phrases\"] = getTenantPhraseCount(postDescription)\n",
    "    features[\"count_owner_Phrases\"] = getOwnerPhraseCount(postDescription)\n",
    "    features[\"count_Amenities\"]=getAmenitiesCount(postDescription)\n",
    "    features[\"isPGRelated\"]=doesContainPG(postDescription)#Good feature;However Training Data might not contain PG, hence\n",
    "        #the current Model at the moment mighn't be leveraging this feature\n",
    "    return features"
   ]
  },
  {
   "cell_type": "code",
   "execution_count": 19,
   "metadata": {
    "collapsed": false
   },
   "outputs": [
    {
     "name": "stdout",
     "output_type": "stream",
     "text": [
      "0.9333333333333333\n"
     ]
    }
   ],
   "source": [
    "postTypeModel_train_set=[(generateFeatuesOnAFlatRelatedPost(postTrainData),postTrainData['typeOfPost']) for postTrainData in postsTrainingData]\n",
    "len(postTypeModel_train_set)\n",
    "train_set,test_set=postTypeModel_train_set[:30],postTypeModel_train_set[30:]#Trained on 30 posts, Will evaluate on 15 posts\n",
    "#train_set,test_set=postTypeModel_train_set[:40],postTypeModel_train_set[5:]#Trained on 40 posts, Will evaluate on 5 posts:Since I have very less traing dataset and taht too is skewed\n",
    "#train_set,test_set=postTypeModel_train_set[:44],postTypeModel_train_set[44:]#Trained on 44 posts, Will evaluate on 1 posts:Since I have very less traing dataset and taht too is skewed\n",
    "classifier = nltk.NaiveBayesClassifier.train(train_set)\n",
    "print(nltk.classify.accuracy(classifier, test_set))"
   ]
  },
  {
   "cell_type": "code",
   "execution_count": 20,
   "metadata": {
    "collapsed": false
   },
   "outputs": [
    {
     "name": "stdout",
     "output_type": "stream",
     "text": [
      "[('ACTUAL : SELL', 'GUESSED : BUY', {'from': {'id': '813074028765526', 'name': 'Sahil Duhan'}, 'typeOfPost': 'SELL', 'containsPicture': True, 'message': '\\\\ud83c\\\\udfea\\\\ud83c\\\\udfe1. \\\\u2618PG For Girls \\\\ud83c\\\\udf40 Sushant lok 1 , c block near park plaza hotel ,JUST 200 MTRS from huda city metro station GURGAON. WITHOUT BROKERAGE ACCOMODATION**\\\\ud83d\\\\udca6 fully furnished rooms\\\\ud83d\\\\udca6 \\\\ud83d\\\\udcbb32\\\\ L.E.D with tata sky \\\\ud83d\\\\udce1in all rooms \\\\ud83c\\\\udfa5 \\\\u2615Breakfast,lunch & dinner\\\\ud83c\\\\udf74 \\\\ud83c\\\\udf6a \\\\ud83d\\\\udebfAttach bathroom with geyser \\\\ud83d\\\\udec1 \\\\ud83d\\\\udd2624 Hr power & water back up\\\\ud83d\\\\udebf * fully secured (cctv camera + security guard 24*7) \\\\ud83c\\\\udf78Drinking r.o. water \\\\ud83d\\\\udeb0 \\\\ud83d\\\\udeaeDaily cleaning of rooms\\\\ud83d\\\\udeae \\\\ud83d\\\\udea1High Speed Wi-Fi Internet @ 8mbps \\\\ud83c\\\\udf74Quality food \\\\ud83c\\\\udfbdWashing Machine Available\\\\ud83c\\\\udfbd \\\\ud83c\\\\udf43Triple sharing @ 9k per bed \\\\ud83c\\\\udf40 \\\\ud83c\\\\udf40 double sharing @ 11k to 13k\\\\ud83c\\\\udf43 contact - 9599954246'})]\n"
     ]
    }
   ],
   "source": [
    "#ERROR ANALYSIS ON THE TRAINING DATASET\n",
    "errors = []\n",
    "for postTrainData in postsTrainingData:\n",
    "    tag=postTrainData['typeOfPost']\n",
    "    guess = classifier.classify(generateFeatuesOnAFlatRelatedPost(postTrainData))\n",
    "    if guess != tag:\n",
    "        errors.append( (\"ACTUAL : \"+tag, \"GUESSED : \"+guess, postTrainData) )\n",
    "print(errors)"
   ]
  },
  {
   "cell_type": "code",
   "execution_count": 21,
   "metadata": {
    "collapsed": false
   },
   "outputs": [
    {
     "name": "stdout",
     "output_type": "stream",
     "text": [
      "[('SELL', 'Our choices determine how happy or satisfied we are in our life. How do we make truly meaningful choices in life? Join us as we explore what it means to be an individual and how daring to choose can be the secret to attaining true freedom.  Lecture. Free Event.  W: www.acropolis.org.in E: info@acropolis.org.in T: +91 22 22163712'), ('SELL', 'room ₹14 - Mumbai, India  2 Room available for girls in Oshiwara  Fully furnished in very good building  Very airy apartment with balcony  Rent -14.5 k each for sharing  Deposit -30 k each  Write for more information .  Available 7th December .'), ('SELL', 'single occupancy room ₹18,500 - Mumbai, India  Require a Female Flatmate for a fully furnished 3BHK as a replacement from 1st January 2017 #Singleoccupancy #homeawayfromhome Rent - ₹ 18,500/- Brokerage - ₹ 0/- Deposit - ₹ 50,000/- Ideal for ppl working in BKC / Sion / Kurla / Santacruz (E) / Kalina - Fully furnished flat - Single Occupancy - Female only (Preferably Vegetarian &/ Eggetarian) - Wifi, Cable, Maid & Cook (all in place), expense will be shared equally amongst 3  - Chilled Out, Fun loving Flatmates  - Club house available (Swimming pool, gym, badminton court, squash court, tennis courts, jogging track) - 1km from Kurla station/ Vidyavihar station  Nikita Giria Vidhi Shah'), ('SELL', 'Fully Furnished 2 BHK Apartment in Raj Legacy on LBS Road Vikhroli West ₹47,000 - Raj legacy, Vikhroli(W)  #FullyFurnished #2bhk #LBS #Readytomovein (available for both single & twin occupancy for both rooms)  The fully furnished house contains:  TV, Sofa cum bed, 2 AC, washing machine, microwave,gas pipeline, toaster, fridge, kitchen cabinets, 2 full size wardrobes, double bed with mattresses, kitchen cabinets, chimney  The place is on the LBS road roughly 400 mts. from Vikhroli West Railway Station & 50 Mts. from the nearest Bus stand. 1 km from the eastern express highway.  The society has a fully functional club house with Badminton Court, Swimming Pool, Indoor Games, Gym etc.  Total Deposit: 2 lakhs (To be divided equally) The house is available immediately. If interested P.M. me or call me at 8291285194'), ('SELL', 'TaRu ChaudhaRy is looking for FEMALE accommodation on sharing basis with NO BROKERAGE between Bandra and Andheri within close proximity to metro or local train. Maximum Rent Budget: Rs. 10,000 All leads will be appreciated.'), ('SELL', '#No_Brokerage #Single_Occupancy #Twin_Sharing CALL on 9108044529 ₹8,000 - Bangalore, India  If anyone is looking for a #Shared_Accommodation in #Indira_Nagar #Koramangala #Bellandur #Marathahalli #Panathur #Kadubeesanahalli #Whitefield #Sarjapur #BTM_layout #JP_Nagar #Domlur #Pai_Layout #Murugesh_Palya #HBR_Layout #Mahadevpura #ITPL #AECS_Layout  Please Contact on 9108044529 <<<<< For all the details and Images >>>>>  Rent for Twin sharing starts from 6,000 - 10,000 Rent for Single Occupancy starts from 12,000 - 18,000  #Fully_Furnished and #Semi_Furnished #Flats at #Affordable_Rents #Happy_Living #Happy_Renting'), ('BUY', 'SHORT TERM SINGLE OCCUPANCY ROOM IN 3BHK ₹800 - Santacruz Vakola Mumbai  SHORT TERM - SINGLE OCCUPANCY ROOM AVAILABLE IN A 3BHK for SINGLE WORKING WOMEN in SANTACRUZ EAST - CLOSE TO BKC and WESTERN EXPRESS HIGHWAY - AVAILABLE IMMEDIATELY TILL 28th of DECEMBER. MESSAGE ON FB IF INTERESTED. CHARGE 800 per day.'), ('SELL', 'Flats for rent ₹25,000 - Near Nagarbazar and Jessor Road  3BHK flats, South - East facing. The property is self owned. There is underground electric lines with both 220v & 440v connection.  Peaceful and calm residential area. Distance from airport is 15 min,   closest metro is Dumdum which is about 15 min too. The area is approx 1000sqft  per floor.  Each floor has 3 bed room, kitchen, dining and 2 bathroom.  This property is for both Sale and Rent.  Rent 25,000/- with security deposit of 50,000/-. Preferred Students, Doctors, Nurses, People from other states coming to work in kolkata.'), ('SELL', '200 yards basement available in a residential property for rent in sector 57, gurgaon. Near Hong Kong bazaar. Looking for tenants who plan to open boutique, warehouse for their business, studio et c etc. Can ping me on Facebook message for more details. Thanks'), ('SELL', 'Semi Furnished 3Bhk  available for rent for Families . Location Near kannamangala kadugodi ₹24,000 - Bangalore, India  Semi Furnished 3Bhk  available for rent for Families. Location kannamangala kadugodi  Only 2 Months of Security Deposit (INR48000 fully refundable) No Maintenance, no brokerage.  For More Info Feel Free To Call 9964262512'), ('SELL', '#2Bhk for rent in Blueridge in T4 tower , #Hinjewadi , #NoBrokerage #Family . Floor 16th Rent- 17000/- Deposit- 55000/- Please call 8308806455 to see the flat.'), ('SELL', \"Urgent.. flat is ready for possession now.. Hi I'm a owner I've a 1bhk flat at yari road, versova, Andheri west. I want to give on rent for 27k It's fully furnished  It's with fridge, washing machine, AC, 2 gas cylinders & a automatic 3 burner stove. Tea table, 3+1+1 sofa, mixer grinder kitchen covered with wooden door n with glass shelfs.  It also has a double bed with new medicated mattress  and a wardrobe\"), ('BUY', \"2BHK ₹1  Hi!  I'm looking for a 2bhk flat (semi / unfurnished) in a society for a family, preferably in one of the following locations - DLF phase IV / south city  and other nearby places. Need it from 15th of Dec.  Any leads would be appreciated! Please inbox me details if possible. Thanks.\"), ('SELL', \"BOYS #3BHK  #FULLY FURNISHED #SHARING  AVAILABLE # BEHIND SAP LABS # NEXT TO RMZ NXT # NEAR GRAPHITE INDIA CIRCLE # KUNDALAHALLI #LAST BED AVAILABLE  Rent including maintenance is only Rs 7100 per head on sharing. Security Deposit is only Rs 14200 refundable at the time you vacate.  House is #Huge #Spacious #Beautiful #Peaceful #Cozy and Fully  equiped with T.V, FRIDGE, FULLY AUTOMATIC WASHING MACHINE, SOFA, DINING TABLE, GEYSERS, TABLE, GAS STOVE WITH GAS CONNECTION, FULLY FUNCTIONAL KITCHEN, WIFI, DTH,GYM,INDOOR GAMES ROOM, and many more.  Bills like DTH, ELCTRICITY, WIFI, GAS needs to be shared among Flat Mates.  House is easily accessible to people working in SAP LABS,RMZ NXT, IBM, DIVYASHREE TECH PARK, VYDEHI HOSPITAL, ITPL, TCS,BAGMANE TECH PARK, DODDANEKUNDI ,  MARATHALLI, WHITEFIELD, KUNDALAHALLI, AND NEAR BY TECH PARKS.and has easy access to PETROL PUMP, RING ROAD, BANKS, ATM'S, MARKETS, HOSPITALS, MALLS, COLLEGES, PARLOURS/SALONS, RESTAURANTS,TECH PARKS ETC .  Let's catch up . Call us on - 8884447617 or 8884445841\"), ('SELL', 'Looking for a flatmate in Mumbai. Will be ready to move in by 15th December. Looking in areas of Bandra/Khar/Santacruz/ Andheri/Jogeshwari. Preferably fully furnished.'), ('SELL', \"Flatmate in Fully Furnished Flat in Suncity Apartments Sarjapur Junction Bellandur ₹12,000 - Suncity Apartments  #Bangalore #Immediate #Flatmate #SingleOccupancy #Bellandur #Belandur #Sarjapur #Suncity #Ecospace Flatmate in Fully Furnished Flat in Suncity Apartments Sarjapur Junction Bellandur  Looking for immediate flatmate from 1 Dec. No brokerage. Gated society with guards and no restrictions. Additional charges to be divided : Maid, Broadband Electricity etc. If interested, please feel free to get in touch. Call or Whatsapp! we'll share the pictures of the apartment. Thanks! +91-888-222-2070  Rent~12k  Location Suncity Apartments at Bellandur Sarjapur Junction Signal Cross https://www.google.com/maps/place/Sun+City+Corporate+Leisure/@12.9238319,77.6653147,17z/data=!4m3!3m2!1s0x3bae13778b0df81b:0xffbe0e5c196fe128!4b1  Amenities Facilities Description Fully furnished independent BHK with Bed, Cots, Mattress Attached bathrooms all fitted with Geysers Seperate Big Wardrobes ACs Almirahs Windows Balcony Curtains etc Very High speed Wi Fi Internet Broadband TV television with DTH Fully Automatic Washing Machine Laundry cleaning and Iron Luxurious Sofa set and Couch with Plush Dining Table Marble and tiled floorings Modular well stocked fully furnished Kitchen with Microwave Chimney and 4 burner stove Water Purifier RO and big Refrigerator Fridge Cook and maid 24 hours water supply and electricity with Power back up Ample parking space for cars and two wheelers Safe and serene environment with Elite places Gym with trainer Tennis and Squash All the amenities and grocery shop inside the society 2 min walking from Outer Ring road  The house is too good to give it a miss! Check it out for yourself Flat is Fully Furnished house in Suncity Apartments, Sarjapur Junction Bellandur Available immediately and Ready to move in Just need to move in with your bag of clothes Ideal for people working in Bellandur, EcoSpace, EcoWorld, Salarpuria, Cisco, Intel, HSBC, Honeywell, Accenture, Capgemini, First Source, Genpact, AT&T, HP, Intuit, Intel, SAP, Brocade, Airvana\"), ('SELL', 'Pest Control Service  ₹700 - Bangalore, India  Did you know? Cockroaches are known to carry 33 types of bacteria, 6 parasitic worms and trigger asthma attacks. Get rid of Pests at Home. Book Pest Control Service! For details Visit : http://bit.ly/2fNPtEd or call 080 30323232'), ('SELL', 'Semi furnished Flat for rent in Nandhini Lakeview, JP Nagar, Bangalore-ZERO BROKERAGE ₹15,000 - Banglore City  Nandini Lakeview Is One Of The Popular Residential Developments In JP Nagar, Neighborhood Of Bangalore. It Is Among The Completed Projects Of Wise Builders And Developers. It Has Lavish Yet Thoughtfully Designed Residences In 1 Blocks.  Rent : 15000Rs maintenance included. Deposit : 97,500 Area     : 1,138 sqft Car Parking Available, Door facing west, 4th floor  Furnishings: Shoe Rack  Crockery Unit  Modular Kitchen with Chimney  Cabinets above & below the Kitchen slab  Wardrobes & Lofts in Bedrooms  Mirror attached in wardrobe for dressing purpose  Geyser in Bathrooms   Check out the property link for more details : https://goo.gl/Kt1RNa OR Call on : 08046689222'), ('BUY', 'Chair-10 & Table-1. Dinner table. Very good condition..contact 8123734474 ₹4,000 - Bangalore, India'), ('BUY', 'Battery & UPS...one year old very good condition. Suitable for office and home purpose..8123734474 ₹20,000 - Bangalore, India'), ('SELL', \"Vacancy for 2 flatmates in 2.5 BHK ₹8,000 - Mumbai, India  Vacancy for two chilled out guys in 2.5 bhk Looking for two roommates in 2.5 BHK near LBS marg , Bhandup West Mahavir Universe Rent: 8000 per head only Deposit: 20000 * Fully furnished (washing machine, fridge, geyser, WiFi, Television,cupboards, gas, beds etc.)  * Free parking facility for bike and cars * Caring Maid's for cooking and cleaning  * No brokerage  For. More details kindly call or WhatsApp on 8422973039 , 8879426624\"), ('SELL', 'Flat mate required. ₹6,000 - East Enclave At New Town, Action Area I, Kolkata  Need a male flatmate just opposite East enclave, newtown. Interested plz inbox me.'), ('SELL', \"Room ₹14,875 - Carlton estate - phase 5 . Gurgaon  Hi #femaleonly #nobrokerage  #Fullyfurnished room with attached bathroom available for single or double sharing in very well reputed society(free gym facility) in Dlf phase 5 . It's a well furnished flat on 14th floor. I'm looking for my replacement. One who is ready to shift from 1st of January.   Rent-14,875 for single sharing and 7,440 for double sharing, maintenance included  Security-28500 #electricity divided among flat mates  #Cook is as per the choice #Cleaning aunty is in common #All basic amenities are given. #fridge #Ac #wifi #tv #dishtv #oven It's a safe gated society. Inbox me if anyone interested\"), ('SELL', \"A 3 BHK Flat available #Double sharing for Boys #Rent #Fully Furnished Flat in Doddanekundi near Brookfield Mall.   House is #Huge #Spacious #Beautiful #Peaceful #Cozy and Fully Equipped with T.V, FRIDGE, FULLY AUTOMATIC WASHING MACHINE, SOFA, DINING TABLE, GEYSERS, TABLE, GAS STOVE WITH GAS CONNECTION, FULLY FUNCTIONAL KITCHEN, WIFI, DTH and many more.  Rooms have Amenities like COTS WITH MATRESSES, PILLOWS, BEDSHEETS, CURTAINS, DRESSING TABLE, SIDE TABLES and many more.  Apartment has Amenities like 24/7 SECURITY, GYM, POWER BACKUP, LIFT, 24/7 WATER SUPPLY, CAUVERY WATER FACILITY, RESERVED CAR/2WHEELER PARKING, ETC.  Bills like DTH, ELCTRICITY, WIFI, GAS needs to be shared among Flat Mates.  Rent including maintenance is only Rs 6500 per head on sharing. Security Deposit is only Rs 13000 refundable at the time you vacate.  House is easily accessible to people working in ITPL, BAGMANE TECH PARK, DODDANEKUNDI ,  MARATHALLI, WHITEFIELD, KUNDALAHALLI, AND NEAR BY TECH PARKS.and has easy access to RING ROAD, BANKS, ATM'S, MARKETS, HOSPITALS, MALLS, COLLEGES, PARLOURS/SALONS,RESTAURANTS,TECH PARKS ETC .  Let's catch up . Call us on - 8884447617\"), ('SELL', '2BHK (960 sqft) Semi Furnished for Rent @ Ambalipura, Harlur Road, Bellandur, Bangalore ₹20,000 - Bangalore, India  2BHK (960 sqft) Semi Furnished for Rent @ Ambalipura, Harlur Road, Bellandur. Given Only to families.  2 kms from Ecospace, 1 km from Outer Ring Road and 700 mts to Sarjapur Road.  Rs. 20000/- including Maintenance. Please inbox me, if you are interested. Available from 12th January'), ('SELL', 'Brand new 2 BHK Semi Furnished apartments for rent in Bellandur ₹26,000 - Bellandur, Bangalore  Gated Community with Gym, Swimming Pool and Individual Parking space Located right next to Prestige Tech Park (Literally next to it!!) Area: 1280 Sqft Deposit of five months only Ideal for people working in Marathalli, Sarjapur Road, Cessna, RMZ Eco Space, Eco World Call: +91 9972810853'), ('SELL', '(SOLD) Spacious 2 BHK, in Kadubeesanahalli,near Cessna tech park for rent ₹23,000 - Bangalore, India  East facing corner flat (1266 sq ft), 100% Vastu compliant, 2BHK available for rent. Complete woodwork done with modular kitchen. Located on the 3rd floor out of 4 floors, one balcony overlooking pool & garden & other overlooking greens. Very well ventilated with ample natural light. Ideal for professionals working in Bellandur, Cessna tech park, Prestige tech park, Ecospace, Eco world, Intel, Etc.'), ('SELL', '1bhk apartment for rent at kadugodi Near Jr Govt College. #9,500 Bangalore, India i am posting behalf of owner #ITPL #PrestigeSantiniketan #GRtechpark #whitefield #Vydehi #forum 1 bhk flat 3rd floor for rent very close to whitefield rly stn and satya sai ashram and kadugodi volvo bus stop at Walking distance. Itpl and Park square Mall - 3 km Prestige santi niketan/cloud nine /narayana hridalya - 3.5 km Manipal hospital:- 4 km Vydehi hospital :-6 km Forum value mall :-4.5 km Phoenix mall :-7.5 km. Marathalli:- 10km 24 hrs security water supply lift car parking area. 1 bathroom 1 Balcony Flat is semi furnished with wardrobes modular kitchen,very good location. will vacant in 18th Dec 2016 Rent is 9,500 / including maintance  Deposit: 30 K'), ('SELL', '2BHK Ground floor, semi furnished home @Kasavanahalli, near Sarjapur Rd + easy access 2 Elec City ₹17,500 - Bangalore, India  2BHK Ground floor, semi furnished home in a residential layout. Kasavanahalli, Bangalore near Sarjapur Road. Nearest Landmark: Amritha Engineering College, Kasavanahalli   Deposit: 6 Months Rent  First Pref: Small Family; Bachelors also okay.  For more details: Request you to please send a direct/personal message to me on Facebook. We can discuss on phone thereafter.  Thank You.'), ('SELL', '2bhk at old airport road ₹15,400 - Bangalore, India  Rifco aruna apartment konena agarhara, old airport road no brokerage guarded society deposit 70-80k  I am Re-posting on behalf of my owner. last person who blocked the flat, backed off at last moment. Flat is available from 1st dec, Please contact owner directly. Name Manjunath shetty contact: 9740141951'), ('SELL', '1 BHK in halanayakanahalli (Opp Wipro Sarjaput) for RENT ₹9,000 - Wipro, Sarjapur  1 BHK For rent near sarjapur Road Wipro(2 KM)  just 2 KM from WIPRO on sarjapur and 1.5 KM from Amrita Engineering college .  Ideal For bachelors and family of 2 .  1st floor .  24/7 water supply  Security Deposit 5 Months of rent .   ideal for folks who have their own mode of transport.  google maps direction link for the location:  Contact 99860-66464 (owner)  https://www.google.co.in/maps/dir/Morigate+Bus+Stop,+Sarjapur+Main+Road,+Kaikondrahalli,+Bengaluru,+Karnataka/Bala+Residence,+Halanayakanahalli,+Bengaluru,+Karnataka+560035/@12.9041419,77.6806367,16z/data=!4m13!4m12!1m5!1m1!1s0x3bae131122984435:0x7b9b13794af019f1!2m2!1d77.6844952!2d12.9107315!1m5!1m1!1s0x3bae133b794f45d7:0x86368d5fa0a18f80!2m2!1d77.6854011!2d12.8976928'), ('SELL', '1 bhk full furnished flat 14k rent 1 lakh deposit ₹14,000 - Arun Patios-Arun Shelters  Full furnished flat prefered for everyone bachelors, couples, family.. 14k rent and 1 lakh deposit..sofa set, bed, wardrobe, dinning table, geyser, gym, swimming pool, groccery shop, near by ccd, foodworld, banks, Atm, vegetable shops..those whor are interested Plzz contact to manish- 9765186305, 7972344887..(ASAP)'), ('SELL', '2BHK House for Rent in Vijayanagar. ₹20,000 - Bangalore, India  Spacious 2 BHK house in Ground Floor with wardrobes in both the rooms along with the Utility space. 24 Hrs water and 2 wheeler parking is available.  20000 Rent/200000 Advance (Negotiable).  2 Minutes walk to Metro Station and TTMC Bus Stand. Location: Near Bata Show Room/Mc Donalds Vijayanagar.  100 % Vaastu compliant \"Vegetarian Families preferred\"  Contact : 7760471239'), ('BUY', 'Looking for a single room house in jayanagar area for my close friend... Urgently needed...  Any leads??'), ('SELL', 'Available from 31st Dec, gated community with all amenities. Distance 0.5 km from ORR, 1.6 km from EMC2, 1 km from Phoenix market city. The flat is fully furnished with all furniture and fittings as in pictures. Owner abroad, no brokerage, rent 24k, monthly maintenance separate. watsapp 001-5404493016.'), ('SELL', '#Sarjapur Road, Chikkakannalli, Mana Karmel Society, #3bhk, #Flatmate Required. 26k rent, 1 Lac sec ₹8,666 - Sarjapur Road  We are 2 people from IIIT Allahabad. Searching for a flatmate.  We have our own TV, Washing Machine, Fridge, Kitchen Utensils and all the basic amenities required inside the flat. The society has Gym, Swimming pool, Badminton Court, Club House and Garden. Gym and pool are functional, rest of the amenities are under construction.  The location is highly picturesque. Away from the smoke of Bengaluru. Contact no.: 7417591255, 8948309343 Location: https://goo.gl/jt4wK0  #NoRestriction #NoInterferenceFromOwner #NoGenderBias #semiFurnished'), ('SELL', 'Brand new 2 BHK in gated community for rent (chandapur, near to electronic city) ₹11,500 - Vakil Whispering Woods  Brand New 2 BHK available for Rent in Vakil Marigold Near Chandapura,15 minutes drive from Electronic city toll gate  Best suitable for Family / Couples working in and around Electronic City / Bommasandra.   Society includes outdoor parks, basketball court, club house, swimming pool, Gym, Badminton Room, Squash Room, TT Room,Party Hall,TV Room . You love this place as it gives you modern amenities and Peace environment to relax your body and mind.Vegetarians preferred.  Rent 9,500 + maintainance 2,000 Deposit 60,000  Amenities Available:   Kitchen Cabinet  Geyser in both bathrooms  Ceiling Fans  Tube light  UPS  Aqua Guard  Chimney  Wardrobe in both bed rooms  Dressing Unit in both bed rooms  Bed Side table in both bed rooms  Queen size bed with mattress in both bed room. Covered car parking  Contact : 9964004441  Location: 1km from Chandapura'), ('SELL', '2 BHK House ₹17,000 - Kodihalli  Location: Kodihalli (behind Leela Palace) Advance: Rs. 1,00,000 Rent: Rs 17,000 Description: 2 BHK (extra common attached bathroom), secure, and semi-furnished. Good neighborhood and five-minute walk to Old Airport Road. Contact: Ping me on messenger first'), ('SELL', 'Brand New 3 BHK Semi Furnished apartments for Rent in HSR Layout ₹34,000 - HSR Layout  Equipped with Power Backup, Covered Parking and Lift  Rent 3BHK: INR 34,000.00 + maintenance  Security Deposit of Six months Only  At walk able distance from HSR Club, Grand Supermarket  Call: +91 9972810853'), ('SELL', 'FOR RENT: Brand New 2 BHK APARTMENT, VASANTHAPURA,close to ISRO Layout ₹13,000 - Bangalore, India  This 1040 Sft and North-facing and fully vaastu-compliant Apartment is located in Maruti Layout, Vasanthapura, adjoining ISRO Layout. This semi-furnished Apartment is available immediately on rent for family/ working executives - Men & Women / group of students - Boys & Girls for Rs. 13000 per month, Maintenance: Rs,1000 per month and a security deposit of Rs.1,30,000. The terms are slightly negotiable. The Apartment is equipped with complete woodwork including wardrobes, dressing, lofts and modular kitchen. In addition, safety grills, curtain rods, builtin mirrors in wardrobes, ceiling fans and LED bulbs. Both attached bathroom and common bathroom are complete in all respects including W.C., water heater, shower,health faucet, mirror and towel rods.  Vasantha Vallabharayaswamy Temple, a popular landmark is within the walking distance from this Apartment. The lift, car parking, bore and Cauvery water are additional facilities. The proximity to leading IT offices, schools,colleges, hospitals, banks and Malls will be a great advantage.'), ('SELL', 'Spacious #2BHK -3 sides open(1050 Sqft) flat for rent at Belthur #Kadugodi, 09 minutes from #ITPL ₹17,000 - Bangalore, India  East facing corner 2BHK flat at good location available for rent from #7thJanuary2017 at #Belthur #kadugodi, facing to #A1Freshsupermarket #Greenwingssalon #Fitnesscentre 300 meters from main road and closer to all major schools #vibgyor #DPSwhitefield #petrolbunk #banks #playschools #medicalstore #parksquaremall #forumvaluemall                                                                                                                                                                                                                                2 Bedrooms with attached and common bathrooms with fitted geysers, Balcony, Crockery unit with Granite top, 24 hrs water facility & power backup, GYM, Intercom, Party Hall, Play area, Garden, Security available for rent from & 7th January 2017, rent 17000/- inclusive of maintenance (deposit 80,000).                                                                                                                                                                                                                                                                      Please inbox me, If interested'), ('SELL', '3 BHK NEW Apartment for rent in SNN RAJ SERENITY Begur road (1465 sq ft) ₹21,000 - Begur Road  3 BHK NEW Apartment (SEMI FURNISHED) for rent in SNN RAJ SERENITY Begur road (1465 sq ft) - Lake View from bedroom • Close proximity to Electronic City, Royal Meenakshi Mall, Bannerghatta Road, Infosys Electronic City, Wipro Electronic City, Bommanahalli and Silk Board • 3 Bedrooms and 3 Balcony, 2 Bathrooms and Geysers, Kitchen with cabinets and Utility area, Dining and Living room • Wardrobes, Tube lights and fans in all rooms  • Gated community with intense security (24X7 security in each building), CCTV Monitored Floors. • Covered Car and Two-wheeler parking • 24 hrs complete power backup • Amenities such as, Big Indoor Swimming Pool and toddler pool, Gymnasium, Spa, Jacuzzi, Steam and Sauna, Yoga room, Poker room  Billiards room, Squash Court, Table Tennis Court and Badminton courts, Open Air Restaurant and Sky View Party Halls, Mini Cinema Hall & Club house (including sports halls for kids) • Extensive Outdoor play area for kids • Very good ventilation • 24 hrs water supply • Lift and service lift hence shifting is very easy • 100 percent VASTU compliant • Shopping complex inside campus • Entire community surrounded by lush green and lake view • **RENT EXCLUSIVE OF MAINTENANCE CHARGES** EXPECTED RENT: 21K + maintenance charges  Maintenance charges needs to be borne by the tenants. Receipt will be provided for maintenance charges. Contact details: Interested folks, kindly drop me a message on Facebook. We can coordinate further from there and exchange phone numbers.'), ('SELL', 'Fully furnished 2 BHK flat for rent at Choodasandra, Bangalore ₹16,000 - Alden, MN (56009)  2 BHK Fully furnished flat for rent in Choodasandra, near Kasavanhalli, Off Sarjapur Road, Bangalore. Available from 24th Nov 2016.  It includes TV, Refrigerator, Sofa set, Beds in both rooms, Microwave, Indoor-Outdoor swing, Washing Machine, dinning table, invertor, wi-fi.  Amenities includes Swimming Pool, Badminton Court, Table Tennis, Gym, Children Play Area, Basket ball court, Jogging Track, Power Backup, Covered Car Parking.  The Rent amount is Rs.16000 per month + maintenance.  Contact Sanjay Sahni for more details: +91-9999110823'), ('SELL', '2BHk independent house flat available for rent from 1st January 2017 ₹16,000  Close to super market,Bagmane WTC,Samsung ,HP ,IT office and BMTC office and Day care. Venkateshwara layout.outer ring road mahadevapura. Opp to nester raga, cheerup Angles day care'), ('SELL', 'To let 2bhk flat ₹12,500 - Btm 2nd stage  Spacious.semifurnished.deposit 50k lil bit negotiable.near axa building and available for anyone.24×7water supply.available from 1st Jan.any leads would be appreciated.'), ('SELL', '2BHK East facing flat for sale in Puravankara Highland ₹6,500,000 - Bangalore, India  2 BHK flat [1339 sqft] available for sale in Purva Highland, off Kanakpura road, Near Kumaran School. Price - INR 6500000  Call me on 9632677992 for further details!!!!  www.puravankara.com'), ('BUY', \"Spacious 2 bhk. Just 100 meters from Maruthi Sevanagar bus stop.. This property comprises of spacious hall with kitchen, dining, 2 bed rooms with one common bath cum toilet and one attached to master bedroom. Complete wood work in all the rooms. Modern fittings and fixtures provided in all the rooms. Good cross ventilation and lighting. The house has three balconies.Closed Parking space available. 24 hours cauvery/borewell water. Security personnel present 24x7. Close to the main road which comprises,Shops, Bus stop, Banks, ATM's, Hospital, Restaurants,Orion mall etc. These said places are all at walk able distance only. Ideal for families. If interested message.\"), ('SELL', \"1.5 BHK flat for rent in Kodichikanahalli, rent 7.9k ₹7,900 - Bangalore, India  # Apartment name: Prabhavathi garden, Lake city, Kodichikanahalli, Bangalore-76  # It's a furnished flat (1.5 bhk) with modular kitchen, Wardrobe, Geyser, Electric fittings, Complete grill work for main door and balcony.  # Flat located in excellent locality and great connectivity. Its 2.4 km distance from bannerghatta main road, 2.8 km from silk board.   Although its with great connectivity to major it hubs, It is also away from pollution as its in back side of btm (Madiwala) lake.  # apartment has lift, 24 hours security, Power backup, Intercom, Cauveri water connection, Borewell, Rain water harvesting, Waste management. It has 2 no.S of 2 wheeler parking, No dedicated car parking- But could be manageable in layout. Total area of flat 600 sqft  # Floor- First, 1 living room, 1 bedroom, 1 study room, 1 bathroom, 1 balcony, House facing- North  # Land- A Khata, Flat- B Khata (Bank loan available, already loan running through nationalized bank)  # Property Age: 6 years  # Water - Corporation and Borewell both available.  # Total Floor = G +3 Floor\"), ('SELL', 'A room on sharing basis in a fully furnished 2bhk ₹8,000 - Bangalore, India  Hi, We are 3 girls staying in a beautifully located duplex in a gated community.Lift facility available. We require a female flatmate for a room on sharing basis. The apartment is fully furnished with beds,matteress,TV,WiFi, fridge microwave and a fully functional kitchen. Cook & maid already available. No water or electricity issues. Absolutely chilled out owner. 24 hours security. Lift facility available. Location: Sony Centre Signal, Kormangala Rent :22,000 ( divided by 3) Maintenance : 2125 (per person per qtr)  Security : 40k  Available :December 1st (negotiable) Please ping/msg for further details.'), ('BUY', 'LUXURIOUS HOUSE  PG FOR GIRLS    NEWLY BUILDING  IN SECTOR 53  The PG IS LOCATED AT - SEC 53, NEAR UMA DHABHA GOLF COURSE ROAD  DISTANCE FROM  BELOW LOCATIONS  50MTRS FROM PARK HOSPITAL 100 MTRS FROM VATIKA TOWERS 100 MTRS FROM HDFC BANK HEAD OFFICE 100 MTRS FROM SUN CITY TOWES 500 MTRS FROM ONE HORIZAN CENTER 50 MTRS FROM GOLF COURSE ROAD  MANY OTHER COMPANIES OFFICES NEAR BY   WALLMART  AUDI PORCHE GENPACT SOUTH POINT MALL AUGUSTA POINT PARAS DOWN TOWN SUNCITY BUSSINESS PARK TIME SQUARE CENTRUM PLAZA GOLF VIEW TOWERS DELL SAMSUNG WELLDONE AIRTEL AMERICAN EXPRESS THE EXECUTIVE CENTER ZOMATO  2 Amenities include :-.  1 Air conditioned, fully furnished rooms  2. 32\"L.E.D  with tata sky in all rooms   3. Breakfast, lunch & dinner   4. Attach bathroom   5. geyser  6. Attached balcony  7. 24 Hr power & water back up 8. New furniture in all rooms 9. Drinking r.o. water  10. Daily cleaning of rooms 11. High Speed Wi-Fi Internet  12.Free car and bike parking  13.Quality food will be 1st priority   14. Walking distance from Auto and Taxi Stand.   15. Washing Machine  16.Frige 17.Security with cam  & security guard.   18.Near market    Single sharing 21k  Double sharing:- 12 k  CONTACT - 9891778844                      - 7835850005'), ('BUY', 'LUXURIOUS HOUSE  PG FOR GIRLS    NEWLY BUILDING  IN SECTOR 53  The PG IS LOCATED AT - SEC 53, NEAR UMA DHABHA GOLF COURSE ROAD  DISTANCE FROM  BELOW LOCATIONS  50MTRS FROM PARK HOSPITAL 100 MTRS FROM VATIKA TOWERS 100 MTRS FROM HDFC BANK HEAD OFFICE 100 MTRS FROM SUN CITY TOWES 500 MTRS FROM ONE HORIZAN CENTER 50 MTRS FROM GOLF COURSE ROAD  MANY OTHER COMPANIES OFFICES NEAR BY   WALLMART  AUDI PORCHE GENPACT SOUTH POINT MALL AUGUSTA POINT PARAS DOWN TOWN SUNCITY BUSSINESS PARK TIME SQUARE CENTRUM PLAZA GOLF VIEW TOWERS DELL SAMSUNG WELLDONE AIRTEL AMERICAN EXPRESS THE EXECUTIVE CENTER ZOMATO  2 Amenities include :-.  1 Air conditioned, fully furnished rooms  2. 32\"L.E.D  with tata sky in all rooms   3. Breakfast, lunch & dinner   4. Attach bathroom   5. geyser  6. Attached balcony  7. 24 Hr power & water back up 8. New furniture in all rooms 9. Drinking r.o. water  10. Daily cleaning of rooms 11. High Speed Wi-Fi Internet  12.Free car and bike parking  13.Quality food will be 1st priority   14. Walking distance from Auto and Taxi Stand.   15. Washing Machine  16.Frige 17.Security with cam  & security guard.   18.Near market    Single sharing 21k  Double sharing:- 12 k  CONTACT - 9891778844                      - 7835850005'), ('SELL', \"Urgent.. flat is ready for possession now.. Hi I'm a owner I've a 1bhk flat at yari road, versova, Andheri west. I want to give on rent for 27k It's fully furnished  It's with fridge, washing machine, AC, 2 gas cylinders & a automatic 3 burner stove. Tea table, 3+1+1 sofa, mixer grinder kitchen covered with wooden door n with glass shelfs.  It also has a double bed with new medicated mattress  and a wardrobe\"), ('SELL', 'TaRu ChaudhaRy is looking for FEMALE accommodation on sharing basis with NO BROKERAGE between Bandra and Andheri within close proximity to metro or local train. Maximum Rent Budget: Rs. 10,000 All leads will be appreciated.'), ('BUY', 'SHORT TERM SINGLE OCCUPANCY ROOM ₹800 - Santacruz Vakola Mumbai  SHORT TERM - SINGLE OCCUPANCY ROOM AVAILABLE IN A 3BHK for SINGLE WORKING WOMEN in SANTACRUZ EAST - CLOSE TO BKC and WESTERN EXPRESS HIGHWAY - AVAILABLE IMMEDIATELY TILL 28th of DECEMBER. MESSAGE ON FB IF INTERESTED. CHARGE 800 per day.'), ('SELL', '#2Bhk for rent in Blueridge in T4 tower , #Hinjewadi , #NoBrokerage #Family . Floor 16th Rent- 17000/- Deposit- 55000/- Please call 8308806455 to see the flat.'), ('SELL', 'Furnished Single Occupancy Room for a Girl - Andheri West ! Rent of the room - 25K. Other details - On request  Room is tastefully furnished with kitchen & private bathroom. Prime Lokhandwala area. Centrally located.  Available for long term stay. Those interested, Inbox me for details.'), ('BUY', 'Email me at va.jenie@gmail.com / jensm.23@gmail.com or please call or leave a message to the ff. numbers 646-535-1432 / (970) 316-2610'), ('SELL', '#NoBrokrage,Andheri West I am staying in this flat and I am looking for 1 more male flatmate to share a semi furnished flat in Four Bungalows, Andheri West I need a working,non drinker & non smoker flatmate. Friends and party etc not allowed in the flat. Looking for a like minded person who is calm and decent.Filmy people please excuse.Rent: 7000 & Deposit: 7000 Cable charges, Wi-Fi & electricity bill is extra which is needs to be shared DN Nagar, Versova Metro Station, Four Bungalows Market, Atm, Bus Stop,Market are nearby to this flat. Ankkit Malviyaa - 7666819638'), ('SELL', 'Hi dear.. looking for a flatmate in powai gandhinagar .from dec end . Its a  2.5 bhk shared by 5 girls.  The  beautiful house is on 15 floor of trikutta tower , with superb ventialton . Maid comes for cleaning and  washing clothes House has:  Wifi Gas  Water purifier Society has gym , jogging  track and lift system.  Rent: 7600 rs per head'), ('SELL', 'Condominium for rent in a quiet, decent and peaceful middle class society.  Airy and West facing with a good view, ample sunlight.  Facilities: - 24 hour municipal water supply. Borewell water also available. - 4 and 2 wheeler parking available.  - Bedding, Cupboard and Fridge - Security - 2 minutes from WE highway and 10 min from Borivali/Kandivali station - Schools, Hospitals Restaurants, Clubs, Supermarkets all in the vicinity  This is perfect for those that want a quiet pad to relax after a long day or over a weekend and still want the conveniences of home delivery and 2 min distances available to them.  Location: Thakur Complex, Kandivali East.  Please pm me for details.  Cheers, Danesh'), ('SELL', 'Condominium for rent in a quiet, decent and peaceful middle class society.  Airy and West facing with a good view, ample sunlight.  Facilities: - 24 hour municipal water supply. Borewell water also available. - 4 and 2 wheeler parking available.  - Bedding, Cupboard and Fridge (optional) - Security - 2 minutes from WE highway and 10 min from Borivali/Kandivali station - Schools, Hospitals Restaurants, Clubs, Supermarkets all in the vicinity  This is perfect for those that want a quiet pad to relax after a long day or over a weekend and still want the conveniences of home delivery and 2 min distances available to them.  Location: Thakur Complex, Kandivali East.  Please pm me for details. 9920421989  Cheers, Danesh'), ('SELL', '#female #vakola  Looking for a female roommate. One room available in a fully furnished, spacious 2BHK. 5 mins aways from airport. 10 mins away from bkc. 10 mins away from Phoenix Marketcity. Please inbox for more details.'), ('BUY', 'Getting likes is easy now with <3 Aqua Liker .com (Search On Google <3 )'), ('SELL', 'Room-mate to share 1 BHK  fully furnished ₹14,500 - Lower Parel (W)  Looking for a room-mate to share a #1 BHK #Lowerparel, next to Peninsula corporate park Rent: 29000 (to be shared between 2 people) #NoBrokerage Well furnished with amenities like internet connection, microwave, fridge, Sofa, 3 door wardrobe, utensils etc. Easy accessibility and walking distance from Lower Parel station. Please comment or inbox me if you are interested and would like to see the flat this weekend'), ('SELL', '#Only For MALES  #Without Brokerage #Single Occupancy and Twin-sharing options in a 3-BHK and 1-RK Fully Furnished Apartment.  #For people working between Cuffe Parade / Colaba / Nariman Point / Churchgate / CST (VT) / Fort / Lower Parel / SOUTH MUMBAI Locations   upto  Ghatkopar / Chembur / Mankhurd / Vashi / Bandra / Vikhroli / BKC   # Bandra Kurla Complex - BKC  Citibank building is 10 minutes walking.  # Windsor / Edelweiss / L & T Finance building / Dani Corporate Park is 1 km away. # Only 5 minutes walking to Kurla West Railway Station.   # Capacity: Maximum 6 people and 3 washrooms.   # Amenities: Single beds , separate cupboard , Fridge, Fully Automatic Washing machine, Samsung microwave, basic kitchen utensils , Aquaguard (high end model runs on electricity) ,  geyer, gas , LED TV , common living room, dining table , Air Condition room, Wifi , 24x7 Water and Electricity , etc.  #AC as well Non AC both options are available.  #Twin-sharing Rent: 9000 per head , Single Occupancy with single bed 17500.  Contact me 9699550066 (I am the owner and not a broker) and the place is available from 1st of August 2016 onwards.'), ('SELL', 'Urgently Looking for chilled out Working flatmates JAN 2017 0nwards.  Single occupancy possible . 1 huge bedroom and 1 small bedroom is available . Rent is Rs.17000 for the huge bedroom (Deposit Rs.40000 )and Rs.14000 is for small bedroom (Deposit Rs 30,000). Other things Electricity will be shared equally.  Its a premium flat with chilled out society with no problem with bachelors .  Please dont compare it with malad mhada flats as its far better in looks , space and location . Also 24-7 water, electricity with level 3 security,cctv cameras is available.  The room is huge and not like typical Mumbai matchbox kind of room . we have swimming pool , gym , garden , community banquet hall in our complex .  Location is : Malad West , Near Mith Choki . whatsapp /call / sms 8879063330'), ('SELL', 'Hello Girls,  One room with attached washroom in a fully furnished #2BHK at #Ozone #Evergreen Apartments, #Haralur road, off #Sarjapur road, is available from #1st of #January. The room has wardrobe with attached full length mirror. The house if fully furnished along with modular kitchen :   1.Sofa + centre table   2.dining table   3.Fridge   4.Fully automatic washing machine   5.Microwave   6.Stove   7.All kitchen utensils 8. Wifi is configured and dual Videocon d2h connection is in place.  The Apartment has all the facilities and the compound is safe and green. Check it out : https://www.google.co.in/maps/place/Ozone+Evergreens/@12.9092414,77.5934546,12z/data=!4m18!1m12!4m11!1m3!2m2!1d77.675337!2d12.9089067!1m6!1m2!1s0x3bae1365d046b745:0xe0c3d077a96033a5!2sozone+evergreen+apartments!2m2!1d77.6634951!2d12.9092507!3m4!1s0x3bae1365d046b745:0xe0c3d077a96033a5!8m2!3d12.9092507!4d77.6634951  It has : 1. ICICI Atm 2. 3 Swimming pools : Common, ladies and kids 3. Jacuzzi 4. Club house 5. Gym 6. Table tanning 7. Billiards 8. Yoga centre 9. Zumba classes 10. Tennis court 11. Basketball court 12. Volleyball ground 13. Kids play area  The rent per month is 12100 including maintenance and the deposit is 75000.  There are grocery store, vegetable mart, clothes store, medical store, meat mart, bakery , stationary and other stores right across the road and in 100 meters vicinity.  Please inbox us me and Anita Louis if interested.'), ('SELL', '#No_Brokerage #Single_Occupancy #Twin_Sharing CALL on 9108044529 ₹8,000 - Bangalore, India  If anyone is looking for a #Shared_Accommodation in #Indira_Nagar #Koramangala #Bellandur #Marathahalli #Panathur #Kadubeesanahalli #Whitefield #Sarjapur #BTM_layout #JP_Nagar #Domlur #Pai_Layout #Murugesh_Palya #HBR_Layout #Mahadevpura #ITPL #AECS_Layout  Please Contact on 9108044529 <<<<< For all the details and Images >>>>>  Rent for Twin sharing starts from 6,000 - 10,000 Rent for Single Occupancy starts from 12,000 - 18,000  #Fully_Furnished and #Semi_Furnished #Flats at #Affordable_Rents #Happy_Living #Happy_Renting'), ('SELL', \"Semi furnished flat available for rent It's a studio apartment ( 1rk), area : 280 sqft, near indiabulls finance centre close to sena pati bapat road, or tulsi pipe road, 5 min walking distance from elphinston or Parel railway station, rent 17, 000, deposit 1lack.. For more info feel free to contact me on 9702188719 ( Rohit )\"), ('BUY', 'Request all the brokers not to send me a membership request and people please this is not a platform from where you can promote your XYZ company / page/ products, in doing so I will be forced to ban you! Thanks for cooperating.')]\n"
     ]
    }
   ],
   "source": [
    "#Run MODEL on DYNAMIC/NEW DATASETS\n",
    "modelResults=[]\n",
    "for newPost in postsRelevantData:\n",
    "    if newPost is None or newPost['message'] is None:\n",
    "        #print(\"<Data Issue>Will Skip this Post : \",newPost,\"</Data Issue>\")\n",
    "        continue\n",
    "    newPost['message']=newPost['message'].replace(\"\\n\",\" \")\n",
    "    #<IMPORTANT>SHOULD HAVE A SPELL CORRECTOR MODULE HERE..BEFORE RUNNING BAYESIAN MODEL</IMPORTANT>\n",
    "    guess=classifier.classify(generateFeatuesOnAFlatRelatedPost(newPost))\n",
    "    modelResults.append((guess,newPost['message']))\n",
    "print(modelResults)"
   ]
  },
  {
   "cell_type": "code",
   "execution_count": null,
   "metadata": {
    "collapsed": true
   },
   "outputs": [],
   "source": []
  }
 ],
 "metadata": {
  "kernelspec": {
   "display_name": "Python 3",
   "language": "python",
   "name": "python3"
  },
  "language_info": {
   "codemirror_mode": {
    "name": "ipython",
    "version": 3
   },
   "file_extension": ".py",
   "mimetype": "text/x-python",
   "name": "python",
   "nbconvert_exporter": "python",
   "pygments_lexer": "ipython3",
   "version": "3.5.2"
  }
 },
 "nbformat": 4,
 "nbformat_minor": 0
}
