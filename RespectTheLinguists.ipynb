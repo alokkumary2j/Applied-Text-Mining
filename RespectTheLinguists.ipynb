{
 "cells": [
  {
   "cell_type": "code",
   "execution_count": 1,
   "metadata": {
    "collapsed": true
   },
   "outputs": [],
   "source": [
    "import nltk"
   ]
  },
  {
   "cell_type": "code",
   "execution_count": 2,
   "metadata": {
    "collapsed": false
   },
   "outputs": [
    {
     "name": "stdout",
     "output_type": "stream",
     "text": [
      "<QUERY SCOPE> [NO JOINS, NO GROUP BY, NO IMPLIED ATTRIBUTES] </QUERY SCOPE>\n",
      "<ATTRIBUTE_SCOPE>  ['counterparty', 'year', 'ROI']  </ATTRIBUTE_SCOPE>\n",
      "~~~~~~~~~~~~~~~~~~~~~~~~~~~~~~~~~~~~~~~~~~~~~~~~~~~~~~~~>>>\n",
      "for counterparty MS ~> <WHERE>counterparty='MS'</WHERE>\n",
      "in year 2016 ~> <WHERE>year='2016'</WHERE>\n",
      "with ROI >10 ~> <WHERE>ROI > 10 </WHERE>\n"
     ]
    }
   ],
   "source": [
    "print(\"<QUERY SCOPE>\",\"[NO JOINS, NO GROUP BY, NO IMPLIED ATTRIBUTES]\",\"</QUERY SCOPE>\")\n",
    "attribs=[\"counterparty\",\"year\",\"ROI\"]\n",
    "print(\"<ATTRIBUTE_SCOPE> \",attribs,\" </ATTRIBUTE_SCOPE>\")\n",
    "print(\"~~~~~~~~~~~~~~~~~~~~~~~~~~~~~~~~~~~~~~~~~~~~~~~~~~~~~~~~>>>\")\n",
    "print(\"for counterparty MS ~>\",\"<WHERE>counterparty='MS'</WHERE>\")\n",
    "print(\"in year 2016 ~>\",\"<WHERE>year='2016'</WHERE>\")\n",
    "print(\"with ROI >10 ~>\",\"<WHERE>ROI > 10 </WHERE>\")"
   ]
  },
  {
   "cell_type": "code",
   "execution_count": 3,
   "metadata": {
    "collapsed": false
   },
   "outputs": [],
   "source": [
    "def getAttribIndex(words,attribs):\n",
    "    for i in range(len(words)):\n",
    "        if words[i] in attribs:\n",
    "            return i\n",
    "    return -1"
   ]
  },
  {
   "cell_type": "code",
   "execution_count": 4,
   "metadata": {
    "collapsed": false
   },
   "outputs": [],
   "source": [
    "def parseThePrepRule(sentence,attribIndex):\n",
    "    \"\"\"\n",
    "        <PREPOSITION><SELECT_ATTRIB><WHERE_FILTER>\n",
    "    \"\"\"\n",
    "    print(sentence,sentence[1],len(sentence),attribIndex)\n",
    "    posTags=nltk.pos_tag(sentence)\n",
    "    print(posTags)\n",
    "    prevPOStag=posTags[attribIndex-1]\n",
    "    if(prevPOStag[1]==\"IN\"):\n",
    "        if(posTags[attribIndex+1][1]==\"$\"):\n",
    "            return ' '.join(sentence[attribIndex:attribIndex+3])\n",
    "        else:\n",
    "            return sentence[attribIndex]+\"=\"+sentence[attribIndex+1]\n",
    "    else:\n",
    "        return \"NA\""
   ]
  },
  {
   "cell_type": "code",
   "execution_count": 5,
   "metadata": {
    "collapsed": false
   },
   "outputs": [
    {
     "name": "stdout",
     "output_type": "stream",
     "text": [
      "['show', 'me', 'the', 'stocks', 'for', 'counterparty', 'MS'] me 7 5\n",
      "[('show', 'VB'), ('me', 'PRP'), ('the', 'DT'), ('stocks', 'NNS'), ('for', 'IN'), ('counterparty', 'NN'), ('MS', 'NNP')]\n"
     ]
    },
    {
     "data": {
      "text/plain": [
       "'counterparty=MS'"
      ]
     },
     "execution_count": 5,
     "metadata": {},
     "output_type": "execute_result"
    }
   ],
   "source": [
    "sentence=nltk.word_tokenize(\"show me the stocks for counterparty MS\")\n",
    "parseThePrepRule(sentence,getAttribIndex(sentence,attribs))"
   ]
  },
  {
   "cell_type": "code",
   "execution_count": 6,
   "metadata": {
    "collapsed": false
   },
   "outputs": [
    {
     "name": "stdout",
     "output_type": "stream",
     "text": [
      "['show', 'me', 'stocks', 'with', 'ROI', '<', '10'] me 7 4\n",
      "[('show', 'VB'), ('me', 'PRP'), ('stocks', 'NNS'), ('with', 'IN'), ('ROI', 'NNP'), ('<', '$'), ('10', 'CD')]\n"
     ]
    },
    {
     "data": {
      "text/plain": [
       "'ROI < 10'"
      ]
     },
     "execution_count": 6,
     "metadata": {},
     "output_type": "execute_result"
    }
   ],
   "source": [
    "sentence=nltk.word_tokenize(\"show me stocks with ROI <10\")\n",
    "parseThePrepRule(sentence,getAttribIndex(sentence,attribs))"
   ]
  },
  {
   "cell_type": "code",
   "execution_count": 7,
   "metadata": {
    "collapsed": false
   },
   "outputs": [
    {
     "name": "stdout",
     "output_type": "stream",
     "text": [
      "['show', 'my', 'stocks', 'traded', 'in', 'year', '2016'] my 7 5\n",
      "[('show', 'VB'), ('my', 'PRP$'), ('stocks', 'NNS'), ('traded', 'VBN'), ('in', 'IN'), ('year', 'NN'), ('2016', 'CD')]\n"
     ]
    },
    {
     "data": {
      "text/plain": [
       "'year=2016'"
      ]
     },
     "execution_count": 7,
     "metadata": {},
     "output_type": "execute_result"
    }
   ],
   "source": [
    "sentence=nltk.word_tokenize(\"show my stocks traded in year 2016\")\n",
    "parseThePrepRule(sentence,getAttribIndex(sentence,attribs))"
   ]
  },
  {
   "cell_type": "code",
   "execution_count": 9,
   "metadata": {
    "collapsed": false
   },
   "outputs": [
    {
     "data": {
      "text/plain": [
       "''"
      ]
     },
     "execution_count": 9,
     "metadata": {},
     "output_type": "execute_result"
    }
   ],
   "source": [
    "\"\"\"\n",
    "WHAT_IF ~B~L~A~B~L~A~B~L~A~B~L~A~\n",
    "Why should humans have all the Fun!\n",
    "    - NO Rule Matched ~~>\n",
    "            Let Machines at their own clasify the Given attribute as a SELECT_ATTRIBUTE vs WHERE_ATTRIBUTE :-)\n",
    "\"\"\"\n",
    "\"\"\"\"\"\""
   ]
  },
  {
   "cell_type": "code",
   "execution_count": null,
   "metadata": {
    "collapsed": true
   },
   "outputs": [],
   "source": []
  }
 ],
 "metadata": {
  "kernelspec": {
   "display_name": "Python 3",
   "language": "python",
   "name": "python3"
  },
  "language_info": {
   "codemirror_mode": {
    "name": "ipython",
    "version": 3
   },
   "file_extension": ".py",
   "mimetype": "text/x-python",
   "name": "python",
   "nbconvert_exporter": "python",
   "pygments_lexer": "ipython3",
   "version": "3.5.2"
  }
 },
 "nbformat": 4,
 "nbformat_minor": 0
}
