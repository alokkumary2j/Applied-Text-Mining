{
 "cells": [
  {
   "cell_type": "code",
   "execution_count": 1,
   "metadata": {
    "collapsed": true
   },
   "outputs": [],
   "source": [
    "import numpy as np"
   ]
  },
  {
   "cell_type": "code",
   "execution_count": 2,
   "metadata": {
    "collapsed": true
   },
   "outputs": [],
   "source": [
    "import random"
   ]
  },
  {
   "cell_type": "code",
   "execution_count": 28,
   "metadata": {
    "collapsed": false
   },
   "outputs": [
    {
     "name": "stdout",
     "output_type": "stream",
     "text": [
      "[0.40763853316687615, 0.9527379572324475, 0.483699435486437, 0.37675554957317037, 0.8484677594659771, 0.535677884449418, 0.21061637250777376, 0.42768168378489946, 0.048013520517942054, 0.3568104498616983]\n",
      "[0.8563354171083136, 0.5297239060520559, 0.10501182908672202, 0.9557129668036123, 0.7446751633845361, 0.7627418749792094, 0.7781891780348731, 0.3370604834454972, 0.038566933266810155, 0.9902549184581192]\n",
      "0.6463836490570669\n"
     ]
    }
   ],
   "source": [
    "vec_size=1000000\n",
    "print_size=10\n",
    "w_vec = [random.random() for _ in range(0, vec_size)]\n",
    "x_vec = [random.random() for _ in range(0, vec_size)]\n",
    "b=random.random()\n",
    "print(w_vec[0:print_size])\n",
    "print(x_vec[0:print_size])\n",
    "print(b)"
   ]
  },
  {
   "cell_type": "code",
   "execution_count": 29,
   "metadata": {
    "collapsed": false
   },
   "outputs": [],
   "source": [
    "def solvePlane(w_vec,x_vec,vec_size,b):\n",
    "    weightedSum=0.0\n",
    "    for i in range(vec_size):\n",
    "        weightedSum+=(w_vec[i]*x_vec[i])\n",
    "    weightedSum+=b\n",
    "    print(weightedSum)\n",
    "    return weightedSum"
   ]
  },
  {
   "cell_type": "code",
   "execution_count": 30,
   "metadata": {
    "collapsed": false
   },
   "outputs": [
    {
     "name": "stdout",
     "output_type": "stream",
     "text": [
      "249993.4925286625\n",
      "249993.4925286625\n",
      "249993.4925286625\n",
      "249993.4925286625\n",
      "1 loops, best of 3: 394 ms per loop\n"
     ]
    }
   ],
   "source": [
    "%timeit solvePlane(w_vec,x_vec,vec_size,b)"
   ]
  },
  {
   "cell_type": "code",
   "execution_count": 31,
   "metadata": {
    "collapsed": false
   },
   "outputs": [],
   "source": [
    "x_vec_numpy=np.asarray(x_vec)\n",
    "w_vec_numpy=np.asarray(w_vec)"
   ]
  },
  {
   "cell_type": "code",
   "execution_count": 32,
   "metadata": {
    "collapsed": true
   },
   "outputs": [],
   "source": [
    "def solvePlaneUsingNumpy(x_vec_numpy,w_vec_numpy,b):\n",
    "    weightedSum=np.sum(x_vec_numpy*w_vec_numpy)\n",
    "    return weightedSum+b"
   ]
  },
  {
   "cell_type": "code",
   "execution_count": 33,
   "metadata": {
    "collapsed": false
   },
   "outputs": [
    {
     "name": "stdout",
     "output_type": "stream",
     "text": [
      "100 loops, best of 3: 16.5 ms per loop\n"
     ]
    }
   ],
   "source": [
    "%timeit solvePlaneUsingNumpy(x_vec_numpy,w_vec_numpy,b)"
   ]
  },
  {
   "cell_type": "code",
   "execution_count": null,
   "metadata": {
    "collapsed": true
   },
   "outputs": [],
   "source": []
  },
  {
   "cell_type": "code",
   "execution_count": null,
   "metadata": {
    "collapsed": true
   },
   "outputs": [],
   "source": []
  }
 ],
 "metadata": {
  "kernelspec": {
   "display_name": "Python 3",
   "language": "python",
   "name": "python3"
  },
  "language_info": {
   "codemirror_mode": {
    "name": "ipython",
    "version": 3
   },
   "file_extension": ".py",
   "mimetype": "text/x-python",
   "name": "python",
   "nbconvert_exporter": "python",
   "pygments_lexer": "ipython3",
   "version": "3.5.2"
  }
 },
 "nbformat": 4,
 "nbformat_minor": 0
}
