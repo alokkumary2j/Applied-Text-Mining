{
 "cells": [
  {
   "cell_type": "code",
   "execution_count": 1,
   "metadata": {
    "collapsed": false
   },
   "outputs": [],
   "source": [
    "import nltk.classify.util, nltk.metrics\n",
    "from nltk.classify import NaiveBayesClassifier\n",
    "from nltk.metrics import scores\n",
    "from nltk.corpus import names\n",
    "import random"
   ]
  },
  {
   "cell_type": "code",
   "execution_count": 2,
   "metadata": {
    "collapsed": false
   },
   "outputs": [
    {
     "data": {
      "text/plain": [
       "{'last_letter': 'k'}"
      ]
     },
     "execution_count": 2,
     "metadata": {},
     "output_type": "execute_result"
    }
   ],
   "source": [
    "def gender_features(word):\n",
    "    return {'last_letter': word[-1]}\n",
    "    #return {'last_letter': word[-1],'len_of_name':len(word)}\n",
    "    #return {'last_letter': word[-1],'rat_of_vowels':len([alph for alph in word if alph in ['a','e','i','o','u']])/len(word)}\n",
    "gender_features('Shrek') "
   ]
  },
  {
   "cell_type": "code",
   "execution_count": 3,
   "metadata": {
    "collapsed": false
   },
   "outputs": [],
   "source": [
    "def prepareTrainingDataSet():\n",
    "    labeled_names = ([(name, 'male') for name in names.words('male.txt')] +\n",
    "                     [(name, 'female') for name in names.words('female.txt')])\n",
    "    random.shuffle(labeled_names)\n",
    "    return labeled_names"
   ]
  },
  {
   "cell_type": "code",
   "execution_count": 4,
   "metadata": {
    "collapsed": true
   },
   "outputs": [],
   "source": [
    "def prepareFeatureVector(featureExtractor,trainingDataset):\n",
    "    featuresets = [(featureExtractor(n), gender) for (n, gender) in trainingDataset]\n",
    "    train_set, test_set = featuresets[500:], featuresets[:500]\n",
    "    return (train_set,test_set)"
   ]
  },
  {
   "cell_type": "code",
   "execution_count": 5,
   "metadata": {
    "collapsed": true
   },
   "outputs": [],
   "source": [
    "def obtainTrainTestSplit():\n",
    "    trainingDataSet=prepareTrainingDataSet()\n",
    "    train_set, test_set = prepareFeatureVector(gender_features,trainingDataSet)\n",
    "    return (train_set,test_set)\n",
    "def obtainAccuracy(classifier):\n",
    "    return nltk.classify.accuracy(classifier, test_set)\n",
    "def predictGender(classifier,name):\n",
    "    return classifier.classify(gender_features(name))"
   ]
  },
  {
   "cell_type": "code",
   "execution_count": 6,
   "metadata": {
    "collapsed": true
   },
   "outputs": [],
   "source": [
    "train_set, test_set=obtainTrainTestSplit()"
   ]
  },
  {
   "cell_type": "code",
   "execution_count": 7,
   "metadata": {
    "collapsed": true
   },
   "outputs": [],
   "source": [
    "classifier = nltk.NaiveBayesClassifier.train(train_set)"
   ]
  },
  {
   "cell_type": "code",
   "execution_count": 8,
   "metadata": {
    "collapsed": false
   },
   "outputs": [
    {
     "name": "stdout",
     "output_type": "stream",
     "text": [
      "male\n",
      "female\n",
      "0.76\n"
     ]
    }
   ],
   "source": [
    "print(predictGender(classifier,'Neo'))\n",
    "print(predictGender(classifier,'Trinity'))\n",
    "print(obtainAccuracy(classifier))"
   ]
  },
  {
   "cell_type": "code",
   "execution_count": 9,
   "metadata": {
    "collapsed": false,
    "scrolled": true
   },
   "outputs": [
    {
     "name": "stdout",
     "output_type": "stream",
     "text": [
      "Most Informative Features\n",
      "             last_letter = 'a'            female : male   =     33.9 : 1.0\n",
      "             last_letter = 'k'              male : female =     33.1 : 1.0\n",
      "             last_letter = 'f'              male : female =     16.8 : 1.0\n",
      "             last_letter = 'p'              male : female =     12.7 : 1.0\n",
      "             last_letter = 'v'              male : female =     10.6 : 1.0\n"
     ]
    }
   ],
   "source": [
    "classifier.show_most_informative_features(5)\n",
    "#Questions: Any male name ending with 'a', any female name ending with 'k'?"
   ]
  },
  {
   "cell_type": "code",
   "execution_count": null,
   "metadata": {
    "collapsed": true
   },
   "outputs": [],
   "source": []
  },
  {
   "cell_type": "code",
   "execution_count": null,
   "metadata": {
    "collapsed": true
   },
   "outputs": [],
   "source": []
  }
 ],
 "metadata": {
  "kernelspec": {
   "display_name": "Python 3",
   "language": "python",
   "name": "python3"
  },
  "language_info": {
   "codemirror_mode": {
    "name": "ipython",
    "version": 3
   },
   "file_extension": ".py",
   "mimetype": "text/x-python",
   "name": "python",
   "nbconvert_exporter": "python",
   "pygments_lexer": "ipython3",
   "version": "3.5.2"
  }
 },
 "nbformat": 4,
 "nbformat_minor": 0
}
