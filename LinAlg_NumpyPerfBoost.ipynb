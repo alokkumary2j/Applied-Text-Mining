{
 "cells": [
  {
   "cell_type": "code",
   "execution_count": 1,
   "metadata": {
    "collapsed": true
   },
   "outputs": [],
   "source": [
    "import numpy as np\n",
    "import random"
   ]
  },
  {
   "cell_type": "code",
   "execution_count": 2,
   "metadata": {
    "collapsed": false
   },
   "outputs": [],
   "source": [
    "from numpy import linalg"
   ]
  },
  {
   "cell_type": "code",
   "execution_count": 3,
   "metadata": {
    "collapsed": false
   },
   "outputs": [
    {
     "name": "stdout",
     "output_type": "stream",
     "text": [
      "[[0.9722809970994906, 0.9275900577633631, 0.09262735294350488, -0.677200695341188, -0.9886588132527294], [-0.18811761449457487, 0.41666958258914377, 0.39390853265731485, 0.1667667038513596, -0.46447826104043966], [-0.6392625875644704, 0.07962487145902197, -0.45545625649981636, -0.6069102131955073, -0.27938179442546685], [0.976954421167596, 0.4154906123929438, 0.23145984504648331, -0.6886392426742112, -0.05489694625364394], [-0.11617557821788638, -0.9667626657500419, -0.004181006210364435, -0.8512517299315132, -0.63209272598997]]\n"
     ]
    }
   ],
   "source": [
    "mat_size=5\n",
    "A = [[random.uniform(-1,1) for _ in range(0, mat_size)] for _ in range(0,mat_size)]\n",
    "print(A)"
   ]
  },
  {
   "cell_type": "code",
   "execution_count": 4,
   "metadata": {
    "collapsed": true
   },
   "outputs": [],
   "source": [
    "def getSQMatrixMul(A,B,n):\n",
    "    #Iterate through rows of Matrix A\n",
    "    MUL_MAT = [[0 for _ in range(0, mat_size)] for _ in range(0,mat_size)]\n",
    "    for i in range(n):\n",
    "        # iterate through columns of Matrix B\n",
    "        for j in range(n):\n",
    "            # iterate through rows of B\n",
    "            for k in range(n):\n",
    "                MUL_MAT[i][j] += A[i][k] * B[k][j]\n",
    "    return MUL_MAT"
   ]
  },
  {
   "cell_type": "code",
   "execution_count": 5,
   "metadata": {
    "collapsed": false
   },
   "outputs": [
    {
     "name": "stdout",
     "output_type": "stream",
     "text": [
      "[[0.16488490306203968, 1.970180087712797, 0.2606465668476407, 0.7479897817046394, -0.7558776952891262], [-0.2962125583749773, 0.5488126701754865, 0.00783854344684782, 0.23835870727336506, 0.16683764906129317], [-0.9058318363885822, -0.5781316122566833, 0.04028486965656015, 1.3783753252978541, 0.9321874729556717], [0.05735802817698672, 0.8647146458534389, -0.010424643044180755, -0.21182443030746714, -1.1510224707037644], [-0.6866178628702733, -0.2535202735832519, -0.5840606438361107, 1.0442632276488704, 1.0113386828496032]]\n",
      "1000 loops, best of 3: 140 µs per loop\n"
     ]
    }
   ],
   "source": [
    "print(getSQMatrixMul(A,A,mat_size))\n",
    "%timeit getSQMatrixMul(A,A,mat_size)"
   ]
  },
  {
   "cell_type": "code",
   "execution_count": 6,
   "metadata": {
    "collapsed": false
   },
   "outputs": [],
   "source": [
    "def getNumpySQMatrixMul(A,B):\n",
    "    return np.dot(A,B)"
   ]
  },
  {
   "cell_type": "code",
   "execution_count": 7,
   "metadata": {
    "collapsed": false
   },
   "outputs": [
    {
     "name": "stdout",
     "output_type": "stream",
     "text": [
      "The slowest run took 1173.92 times longer than the fastest. This could mean that an intermediate result is being cached \n",
      "100000 loops, best of 3: 4.91 µs per loop\n"
     ]
    }
   ],
   "source": [
    "A_NP=np.asarray(A)\n",
    "%timeit getNumpySQMatrixMul(A_NP,A_NP)"
   ]
  },
  {
   "cell_type": "code",
   "execution_count": 8,
   "metadata": {
    "collapsed": true
   },
   "outputs": [],
   "source": [
    "def getMatrixPowerN_v1(A,dim,n):\n",
    "    if n<=1:\n",
    "        return A\n",
    "    A_RAISE_TO_POW_N=getSQMatrixMul(A,A,dim)\n",
    "    for i in np.arange(1,n-1):\n",
    "        A_RAISE_TO_POW_N=getSQMatrixMul(A_RAISE_TO_POW_N,A,dim)\n",
    "    return A_RAISE_TO_POW_N"
   ]
  },
  {
   "cell_type": "code",
   "execution_count": 10,
   "metadata": {
    "collapsed": false
   },
   "outputs": [
    {
     "name": "stdout",
     "output_type": "stream",
     "text": [
      "[[-17737242.921207182, 16417058.637022309, 33191685.197490804, 145624709.50931484, 108134912.70242158], [15191404.835085973, -6852216.544450399, 15859004.859889504, -757860.5240498548, 16196816.979520723], [99304268.41364242, -41042411.917754635, 126704938.23576152, 59529126.38764754, 162476910.27679285], [-173347819.45522243, 93469636.66150798, -87092883.68526289, 271412568.01597464, 45822412.503891826], [35686147.4361099, -6563227.21948114, 95824098.54699059, 162165348.91743597, 181951996.69492447]]\n",
      "10 loops, best of 3: 79.7 ms per loop\n"
     ]
    }
   ],
   "source": [
    "powerToBeRaised=512\n",
    "print(getMatrixPowerN_v1(A,mat_size,powerToBeRaised))\n",
    "%timeit getMatrixPowerN_v1(A,mat_size,powerToBeRaised)"
   ]
  },
  {
   "cell_type": "code",
   "execution_count": 11,
   "metadata": {
    "collapsed": false
   },
   "outputs": [],
   "source": [
    "#Assuming n is power of 2\n",
    "def getMatrixPowerN_v2(A,dim,n):\n",
    "    A_RAISE_TO_POW_N=A\n",
    "    num_iters=int(np.log2(n))\n",
    "    for i in range(num_iters):\n",
    "        A_RAISE_TO_POW_N=getSQMatrixMul(A_RAISE_TO_POW_N,A_RAISE_TO_POW_N,dim)\n",
    "    return A_RAISE_TO_POW_N"
   ]
  },
  {
   "cell_type": "code",
   "execution_count": 12,
   "metadata": {
    "collapsed": false
   },
   "outputs": [
    {
     "name": "stdout",
     "output_type": "stream",
     "text": [
      "[[-17737242.921207517, 16417058.637021985, 33191685.19748808, 145624709.50930825, 108134912.70241548], [15191404.835084872, -6852216.544449865, 15859004.859888528, -757860.5240493035, 16196816.979519963], [99304268.413634, -41042411.91775066, 126704938.23575328, 59529126.38764942, 162476910.27678508], [-173347819.4552124, 93469636.66150245, -87092883.68525872, 271412568.01595664, 45822412.50388725], [35686147.43610523, -6563227.219479432, 95824098.54698388, 162165348.9174313, 181951996.69491512]]\n",
      "1000 loops, best of 3: 1.34 ms per loop\n"
     ]
    }
   ],
   "source": [
    "print(getMatrixPowerN_v2(A,mat_size,powerToBeRaised))\n",
    "%timeit getMatrixPowerN_v2(A,mat_size,powerToBeRaised)"
   ]
  },
  {
   "cell_type": "code",
   "execution_count": 13,
   "metadata": {
    "collapsed": true
   },
   "outputs": [],
   "source": [
    "#Assuming n is power of 2\n",
    "def getMatrixPowerN_v3(A,dim,n):\n",
    "    A_RAISE_TO_POW_N=A\n",
    "    num_iters=int(np.log2(n))\n",
    "    for i in range(num_iters):\n",
    "        A_RAISE_TO_POW_N=getNumpySQMatrixMul(A_RAISE_TO_POW_N,A_RAISE_TO_POW_N)\n",
    "    return A_RAISE_TO_POW_N"
   ]
  },
  {
   "cell_type": "code",
   "execution_count": 14,
   "metadata": {
    "collapsed": false
   },
   "outputs": [
    {
     "name": "stdout",
     "output_type": "stream",
     "text": [
      "[[ -1.77372429e+07   1.64170586e+07   3.31916852e+07   1.45624710e+08\n",
      "    1.08134913e+08]\n",
      " [  1.51914048e+07  -6.85221654e+06   1.58590049e+07  -7.57860524e+05\n",
      "    1.61968170e+07]\n",
      " [  9.93042684e+07  -4.10424119e+07   1.26704938e+08   5.95291264e+07\n",
      "    1.62476910e+08]\n",
      " [ -1.73347819e+08   9.34696367e+07  -8.70928837e+07   2.71412568e+08\n",
      "    4.58224125e+07]\n",
      " [  3.56861474e+07  -6.56322722e+06   9.58240985e+07   1.62165349e+08\n",
      "    1.81951997e+08]]\n",
      "10000 loops, best of 3: 69.1 µs per loop\n"
     ]
    }
   ],
   "source": [
    "print(getMatrixPowerN_v3(A,mat_size,powerToBeRaised))\n",
    "%timeit getMatrixPowerN_v3(A,mat_size,powerToBeRaised)"
   ]
  },
  {
   "cell_type": "code",
   "execution_count": 17,
   "metadata": {
    "collapsed": true
   },
   "outputs": [],
   "source": [
    "eigenProps=linalg.eig(A)\n",
    "eigenValues=np.asarray(eigenProps[0])\n",
    "eigenMatrix=np.asarray(eigenProps[1])\n",
    "eigenMatrixInv=linalg.inv(eigenMatrix)"
   ]
  },
  {
   "cell_type": "code",
   "execution_count": 18,
   "metadata": {
    "collapsed": false
   },
   "outputs": [],
   "source": [
    "def getMatrixPowerN_v4(A):\n",
    "    eigenValuedDiagonalsPowered=np.diag(np.power(eigenValues,powerToBeRaised))\n",
    "    return np.dot(np.dot(eigenMatrix,eigenValuedDiagonalsPowered),eigenMatrixInv)"
   ]
  },
  {
   "cell_type": "code",
   "execution_count": 20,
   "metadata": {
    "collapsed": false
   },
   "outputs": [
    {
     "name": "stdout",
     "output_type": "stream",
     "text": [
      "[[ -1.77372429e+07 +7.45058060e-09j   1.64170586e+07 -3.72529030e-09j\n",
      "    3.31916852e+07 -3.72529030e-09j   1.45624710e+08 -2.23517418e-08j\n",
      "    1.08134913e+08 -2.23517418e-08j]\n",
      " [  1.51914048e+07 +8.54008434e-79j  -6.85221654e+06 +9.31322575e-10j\n",
      "    1.58590049e+07 +9.31322575e-10j  -7.57860524e+05 +3.72529030e-09j\n",
      "    1.61968170e+07 -1.86264515e-09j]\n",
      " [  9.93042684e+07 -8.30958571e-79j  -4.10424119e+07 +7.45058060e-09j\n",
      "    1.26704938e+08 +3.72529030e-09j   5.95291264e+07 -6.55845744e-78j\n",
      "    1.62476910e+08 -1.49011612e-08j]\n",
      " [ -1.73347819e+08 +7.45058060e-09j   9.34696367e+07 -1.86264515e-08j\n",
      "   -8.70928837e+07 -1.49011612e-08j   2.71412568e+08 -5.96046448e-08j\n",
      "    4.58224125e+07 -2.98023224e-08j]\n",
      " [  3.56861474e+07 +1.18231806e-78j  -6.56322722e+06 -7.45058060e-09j\n",
      "    9.58240985e+07 +3.14191992e-77j   1.62165349e+08 -2.98023224e-08j\n",
      "    1.81951997e+08 -2.98023224e-08j]]\n",
      "10000 loops, best of 3: 33.1 µs per loop\n"
     ]
    }
   ],
   "source": [
    "print(getMatrixPowerN_v4(A))\n",
    "%timeit getMatrixPowerN_v4(A)"
   ]
  },
  {
   "cell_type": "code",
   "execution_count": null,
   "metadata": {
    "collapsed": false
   },
   "outputs": [],
   "source": []
  }
 ],
 "metadata": {
  "kernelspec": {
   "display_name": "Python 3",
   "language": "python",
   "name": "python3"
  },
  "language_info": {
   "codemirror_mode": {
    "name": "ipython",
    "version": 3
   },
   "file_extension": ".py",
   "mimetype": "text/x-python",
   "name": "python",
   "nbconvert_exporter": "python",
   "pygments_lexer": "ipython3",
   "version": "3.5.2"
  }
 },
 "nbformat": 4,
 "nbformat_minor": 0
}
